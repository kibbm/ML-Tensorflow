{
  "nbformat": 4,
  "nbformat_minor": 0,
  "metadata": {
    "colab": {
      "provenance": [],
      "collapsed_sections": [
        "_0MaZji6Cqau"
      ],
      "authorship_tag": "ABX9TyOmZLWKN0oYpevqAygZ3xPe",
      "include_colab_link": true
    },
    "kernelspec": {
      "name": "python3",
      "display_name": "Python 3"
    },
    "language_info": {
      "name": "python"
    }
  },
  "cells": [
    {
      "cell_type": "markdown",
      "metadata": {
        "id": "view-in-github",
        "colab_type": "text"
      },
      "source": [
        "<a href=\"https://colab.research.google.com/github/kibbm/ML-Tensorflow/blob/master/fashonMNIST_CNN_1027(%EC%88%98%EC%97%85%EA%B0%80%EB%8A%A5%EC%BD%94%EB%93%9C).ipynb\" target=\"_parent\"><img src=\"https://colab.research.google.com/assets/colab-badge.svg\" alt=\"Open In Colab\"/></a>"
      ]
    },
    {
      "cell_type": "markdown",
      "source": [
        "#패션/옷 분류하기  (fashonMNIST_CNN_1027)\n",
        "---\n",
        "(참고!) https://dacon.io/competitions/open/235594/codeshare/2869\n",
        "https://codetorial.net/tensorflow/fashion_mnist_classification.html\n",
        "https://ko.d2l.ai/chapter_deep-learning-basics/fashion-mnist.html\n",
        "\n",
        "\n",
        "\n",
        "---(참고 실패)\n",
        "https://github.com/KerasKorea/KEKOxTutorial/blob/master/10_Fashion-MNIST%20with%20tf.Keras/10_%EB%94%A5%EB%9F%AC%EB%8B%9D%EC%9D%98%20Hello%20World%2C%20Fashion-MNIST.md\n",
        "\n"
      ],
      "metadata": {
        "id": "Ftv-GfKU6-3c"
      }
    },
    {
      "cell_type": "code",
      "source": [
        "import sys\n",
        "import os\n",
        "\n",
        "import pandas as pd\n",
        "import numpy as np\n",
        "import tensorflow as tf\n",
        "import matplotlib.pyplot as plt\n",
        "import seaborn as sns\n",
        "\n",
        "from keras.callbacks import ModelCheckpoint, EarlyStopping\n",
        "from keras.datasets import mnist\n",
        "from keras.utils import np_utils\n",
        "from keras.models import Sequential\n",
        "from keras.layers import Dense, Dropout, Flatten, Conv2D, MaxPooling2D\n",
        "\n",
        "from sklearn.metrics import confusion_matrix\n",
        "from sklearn.model_selection import train_test_split\n",
        "from IPython.display import Image"
      ],
      "metadata": {
        "id": "tvsY-cta8L7Y"
      },
      "execution_count": null,
      "outputs": []
    },
    {
      "cell_type": "markdown",
      "source": [
        "# pj1>=====딥러닝을 사용한 Fashion mnist 분류======"
      ],
      "metadata": {
        "id": "ay0n1xVpLHK5"
      }
    },
    {
      "cell_type": "markdown",
      "source": [
        "#1.1. Fashion MNIst 데이터셋 불러오기"
      ],
      "metadata": {
        "id": "CqAlahw28D_m"
      }
    },
    {
      "cell_type": "code",
      "execution_count": null,
      "metadata": {
        "id": "Mmd4rWHJ6yef"
      },
      "outputs": [],
      "source": [
        "#1. Fashion MNIst 데이터셋 불러오기\n",
        "import tensorflow as tf\n",
        "\n",
        "fashion_mnist = tf.keras.datasets.fashion_mnist\n",
        "(train_images, train_labels), (test_images, test_labels) = fashion_mnist.load_data()\n",
        "\n",
        "\n",
        "#fashion_mnist모듈은 데이터셋을 반환하는 load_data()함수를 포함하는데, load_data()함수를 호출하면 NumPy어레이의 튜플을 반환합니다."
      ]
    },
    {
      "cell_type": "markdown",
      "source": [
        "#1.2. Fashion MNIst 데이터셋 살펴보기\n",
        "---\n",
        "*   train_images는 0~255사이의 값을 갖는 28*28크기의 NumPy어레이를 갖음.\n",
        "*   train_labels는 0~9까지의 정수값을 갖는 어레이임.\n",
        "\n",
        "* > 0 : T-shirt/top\n",
        "* > 1 : Trouser\n",
        "* > 2 : Pullover\n",
        "* > 3 : Dress\n",
        "* > 4 : Coat\n",
        "* > 5 : Sandal\n",
        "* > 6 : Shirt\n",
        "* > 7 : Sneaker\n",
        "* > 8 : Bag\n",
        "* > 9 : Ankel boot\n"
      ],
      "metadata": {
        "id": "mmSA8Yes7-yO"
      }
    },
    {
      "cell_type": "code",
      "source": [
        "# train_images와 train_labels의 첫번째 요소를 각각 출력해보기.\n",
        "print(train_images[0])"
      ],
      "metadata": {
        "colab": {
          "base_uri": "https://localhost:8080/"
        },
        "id": "IO-4Yz4t7-Oj",
        "outputId": "32b36335-773a-450e-90b5-b28060967b56"
      },
      "execution_count": null,
      "outputs": [
        {
          "output_type": "stream",
          "name": "stdout",
          "text": [
            "[[  0   0   0   0   0   0   0   0   0   0   0   0   0   0   0   0   0   0\n",
            "    0   0   0   0   0   0   0   0   0   0]\n",
            " [  0   0   0   0   0   0   0   0   0   0   0   0   0   0   0   0   0   0\n",
            "    0   0   0   0   0   0   0   0   0   0]\n",
            " [  0   0   0   0   0   0   0   0   0   0   0   0   0   0   0   0   0   0\n",
            "    0   0   0   0   0   0   0   0   0   0]\n",
            " [  0   0   0   0   0   0   0   0   0   0   0   0   1   0   0  13  73   0\n",
            "    0   1   4   0   0   0   0   1   1   0]\n",
            " [  0   0   0   0   0   0   0   0   0   0   0   0   3   0  36 136 127  62\n",
            "   54   0   0   0   1   3   4   0   0   3]\n",
            " [  0   0   0   0   0   0   0   0   0   0   0   0   6   0 102 204 176 134\n",
            "  144 123  23   0   0   0   0  12  10   0]\n",
            " [  0   0   0   0   0   0   0   0   0   0   0   0   0   0 155 236 207 178\n",
            "  107 156 161 109  64  23  77 130  72  15]\n",
            " [  0   0   0   0   0   0   0   0   0   0   0   1   0  69 207 223 218 216\n",
            "  216 163 127 121 122 146 141  88 172  66]\n",
            " [  0   0   0   0   0   0   0   0   0   1   1   1   0 200 232 232 233 229\n",
            "  223 223 215 213 164 127 123 196 229   0]\n",
            " [  0   0   0   0   0   0   0   0   0   0   0   0   0 183 225 216 223 228\n",
            "  235 227 224 222 224 221 223 245 173   0]\n",
            " [  0   0   0   0   0   0   0   0   0   0   0   0   0 193 228 218 213 198\n",
            "  180 212 210 211 213 223 220 243 202   0]\n",
            " [  0   0   0   0   0   0   0   0   0   1   3   0  12 219 220 212 218 192\n",
            "  169 227 208 218 224 212 226 197 209  52]\n",
            " [  0   0   0   0   0   0   0   0   0   0   6   0  99 244 222 220 218 203\n",
            "  198 221 215 213 222 220 245 119 167  56]\n",
            " [  0   0   0   0   0   0   0   0   0   4   0   0  55 236 228 230 228 240\n",
            "  232 213 218 223 234 217 217 209  92   0]\n",
            " [  0   0   1   4   6   7   2   0   0   0   0   0 237 226 217 223 222 219\n",
            "  222 221 216 223 229 215 218 255  77   0]\n",
            " [  0   3   0   0   0   0   0   0   0  62 145 204 228 207 213 221 218 208\n",
            "  211 218 224 223 219 215 224 244 159   0]\n",
            " [  0   0   0   0  18  44  82 107 189 228 220 222 217 226 200 205 211 230\n",
            "  224 234 176 188 250 248 233 238 215   0]\n",
            " [  0  57 187 208 224 221 224 208 204 214 208 209 200 159 245 193 206 223\n",
            "  255 255 221 234 221 211 220 232 246   0]\n",
            " [  3 202 228 224 221 211 211 214 205 205 205 220 240  80 150 255 229 221\n",
            "  188 154 191 210 204 209 222 228 225   0]\n",
            " [ 98 233 198 210 222 229 229 234 249 220 194 215 217 241  65  73 106 117\n",
            "  168 219 221 215 217 223 223 224 229  29]\n",
            " [ 75 204 212 204 193 205 211 225 216 185 197 206 198 213 240 195 227 245\n",
            "  239 223 218 212 209 222 220 221 230  67]\n",
            " [ 48 203 183 194 213 197 185 190 194 192 202 214 219 221 220 236 225 216\n",
            "  199 206 186 181 177 172 181 205 206 115]\n",
            " [  0 122 219 193 179 171 183 196 204 210 213 207 211 210 200 196 194 191\n",
            "  195 191 198 192 176 156 167 177 210  92]\n",
            " [  0   0  74 189 212 191 175 172 175 181 185 188 189 188 193 198 204 209\n",
            "  210 210 211 188 188 194 192 216 170   0]\n",
            " [  2   0   0   0  66 200 222 237 239 242 246 243 244 221 220 193 191 179\n",
            "  182 182 181 176 166 168  99  58   0   0]\n",
            " [  0   0   0   0   0   0   0  40  61  44  72  41  35   0   0   0   0   0\n",
            "    0   0   0   0   0   0   0   0   0   0]\n",
            " [  0   0   0   0   0   0   0   0   0   0   0   0   0   0   0   0   0   0\n",
            "    0   0   0   0   0   0   0   0   0   0]\n",
            " [  0   0   0   0   0   0   0   0   0   0   0   0   0   0   0   0   0   0\n",
            "    0   0   0   0   0   0   0   0   0   0]]\n"
          ]
        }
      ]
    },
    {
      "cell_type": "code",
      "source": [
        "print(train_labels[0])"
      ],
      "metadata": {
        "colab": {
          "base_uri": "https://localhost:8080/"
        },
        "id": "22VK3U9l7pcG",
        "outputId": "1fe0588b-35d7-4060-9453-8e4c157ad4b4"
      },
      "execution_count": null,
      "outputs": [
        {
          "output_type": "stream",
          "name": "stdout",
          "text": [
            "9\n"
          ]
        }
      ]
    },
    {
      "cell_type": "markdown",
      "source": [
        "# 2. 데이터 시각화\n",
        "* matplotlib라이브러리의 imshow()를 사용해 학습데이터셋의 이미지를 시각화하여 데이터셋의 이미지 중 하나를 살펴볼 수 있음.\n",
        "* 각 이미지는 28x28 모양의 흑백 이미지."
      ],
      "metadata": {
        "id": "6pGngnIT8_Fl"
      }
    },
    {
      "cell_type": "markdown",
      "source": [
        "#2.1 학습셋 크기(shape)"
      ],
      "metadata": {
        "id": "227ELhowLiN_"
      }
    },
    {
      "cell_type": "code",
      "source": [
        "#2.1 학습셋 크기(shape)\n",
        "import matplotlib.pyplot as plt\n",
        "\n",
        "#각 어레이의 형태(shape)를 출력해보면, \n",
        "#   ...train_images / test_images는 각각 (28x28)형태를 갖는 60000개, 10000개 이미지의 어레이. \n",
        "#   ...train_labels / test_labels는 각각 0~9사이의 정수 60000개, 10000개 이미지의 어레이. \n",
        "print(train_images.shape)\n",
        "print(train_labels.shape)\n",
        "print(test_images.shape)\n",
        "print(test_labels.shape)"
      ],
      "metadata": {
        "colab": {
          "base_uri": "https://localhost:8080/"
        },
        "id": "Fhk7xffS9Z2s",
        "outputId": "2e60543b-b2f4-4ee7-fa9c-948dc7e01ae9"
      },
      "execution_count": null,
      "outputs": [
        {
          "output_type": "stream",
          "name": "stdout",
          "text": [
            "(60000, 28, 28)\n",
            "(60000,)\n",
            "(10000, 28, 28)\n",
            "(10000,)\n"
          ]
        }
      ]
    },
    {
      "cell_type": "markdown",
      "source": [
        "#2.2 레이블 정의"
      ],
      "metadata": {
        "id": "Vt_KffFLLk6B"
      }
    },
    {
      "cell_type": "code",
      "source": [
        "#2.2 레이블 정의\n",
        "fashion_mnist_labels = [\"T-shirt/top\", #인덱스 0\n",
        "                        \"Trouser\",      #인덱스 1\n",
        "                        \"Pullover\",     # 인덱스 2\n",
        "                        \"Dress\",        # 인덱스 3\n",
        "                        \"Coat\",         # 인덱스 4\n",
        "                        \"Sandal\",       # 인덱스 5\n",
        "                        \"Shirt\",        # 인덱스 6\n",
        "                        \"Sneaker\",      # 인덱스 7\n",
        "                        \"Bag\",          # 인덱스 8\n",
        "                        \"Ankle boot\"]   # 인덱스 9                                                                "
      ],
      "metadata": {
        "id": "89Yh4qG6LUIl"
      },
      "execution_count": null,
      "outputs": []
    },
    {
      "cell_type": "markdown",
      "source": [
        "#2.3 학습데이터 중 이미지 한장을 보여줌"
      ],
      "metadata": {
        "id": "3soeOhUILo0R"
      }
    },
    {
      "cell_type": "code",
      "source": [
        "#2.3 학습데이터 중 이미지 한장을 보여줌\n",
        "\n",
        "#(train_images, train_labels), (test_images, test_labels)\n",
        "\n",
        "#이미지 인덱스, 0~59,999 사이의 숫자를 선택할 수 있음.\n",
        "img_index = 0 #5\n",
        "\n",
        "#y_train은 9까지의 레이블 포함함.\n",
        "label_index = train_labels[img_index]\n",
        "\n",
        "#레이블 출력해보기. ex) 2 pullover(img_index=5), 9 Ankle boot (img_index=0)\n",
        "print(\"y= \" + str(label_index) + \" \" + (fashion_mnist_labels[label_index]) )"
      ],
      "metadata": {
        "colab": {
          "base_uri": "https://localhost:8080/"
        },
        "id": "43DE0AEXLqT9",
        "outputId": "e0a9a46f-9651-4188-bd74-1d92d34def2a"
      },
      "execution_count": null,
      "outputs": [
        {
          "output_type": "stream",
          "name": "stdout",
          "text": [
            "y= 9 Ankle boot\n"
          ]
        }
      ]
    },
    {
      "cell_type": "code",
      "source": [
        "#학습 데이터 중에서 이미지 한장을 보여주기\n",
        "plt.imshow(train_images[img_index])"
      ],
      "metadata": {
        "colab": {
          "base_uri": "https://localhost:8080/",
          "height": 283
        },
        "id": "ZRMlzmTRL7M8",
        "outputId": "cea2e9ea-f449-4a16-f8f8-a73a1c8abfdd"
      },
      "execution_count": null,
      "outputs": [
        {
          "output_type": "execute_result",
          "data": {
            "text/plain": [
              "<matplotlib.image.AxesImage at 0x7f9aa81a3890>"
            ]
          },
          "metadata": {},
          "execution_count": 35
        },
        {
          "output_type": "display_data",
          "data": {
            "text/plain": [
              "<Figure size 432x288 with 1 Axes>"
            ],
            "image/png": "[encoded data removed]"
          },
          "metadata": {
            "needs_background": "light"
          }
        }
      ]
    },
    {
      "cell_type": "markdown",
      "source": [
        "#2.4 학습데이터 16개 보기"
      ],
      "metadata": {
        "id": "fhOC-0qJLrE7"
      }
    },
    {
      "cell_type": "code",
      "source": [
        "#2.4 학습데이터 16개 보기\n",
        "import matplotlib.pyplot as plt\n",
        "\n",
        "plt.figure(figsize=(10, 10))             #사진크기 10x10\n",
        "for c in range(16):  \n",
        "  img_index = c                         #이미지 인덱스, 0~59,999 사이의 숫자를 선택할 수 있음  \n",
        "  label_index = train_labels[img_index] #y_train은 9까지의 레이블 포함함.  \n",
        "  \n",
        "  plt.subplot(4, 4, c+1)                #4행 4열로 지정한 그리드에서 c+1번째의 칸에 그래프를 그립니다. 1~16버너째 칸을 채우게 됩니다.\n",
        "  plt.imshow(train_images[c].reshape(28, 28), cmap='gray')                          #gray로 이미지 보여주기\n",
        "  plt.title('{}.{}'.format(str(label_index), fashion_mnist_labels[label_index]))    #각 이미지의 label_index와 패션라벨 보여주기.\n",
        "plt.show()  "
      ],
      "metadata": {
        "colab": {
          "base_uri": "https://localhost:8080/",
          "height": 608
        },
        "id": "wvx3Okt4yrC2",
        "outputId": "284b5c9b-9564-44ee-d41c-2c90905b8768"
      },
      "execution_count": null,
      "outputs": [
        {
          "output_type": "display_data",
          "data": {
            "text/plain": [
              "<Figure size 720x720 with 16 Axes>"
            ],
            "image/png": "[encoded data removed]"
          },
          "metadata": {
            "needs_background": "light"
          }
        }
      ]
    },
    {
      "cell_type": "markdown",
      "source": [
        "#3. Fashion MNIST 데이터셋 **전처리**하기"
      ],
      "metadata": {
        "id": "5_GspTW59-E8"
      }
    },
    {
      "cell_type": "markdown",
      "source": [
        "#3.1 데이터 정규화(Data normalization)\n",
        "\n",
        "* 데이터 크기를 정규화하여 대략적으로 데이터 크기를 동일하게 맞춤.\n"
      ],
      "metadata": {
        "id": "tDvtCO9sLwvO"
      }
    },
    {
      "cell_type": "code",
      "source": [
        "#데이터 전처리\n",
        "train_images, test_images = train_images/255.0, test_images/255.0 #훈련/테스트 데이터들을 0.0~1.0사이의 값을 갖도록 변환함.\n",
        "\n",
        "'''같은 코드\n",
        "x_train = x_train.astype('float32') / 255\n",
        "x_test = x_test.astype('float32') / 255\n",
        "'''"
      ],
      "metadata": {
        "id": "HyYnq1Mm-CIW"
      },
      "execution_count": null,
      "outputs": []
    },
    {
      "cell_type": "markdown",
      "source": [
        "#4. 모델 구상하기\n",
        "---\n",
        "* Keras에서 모델을 정의하기위한 두 가지 API는 다음과 같습니다. [ 시퀀스 모델 API(순차 모델 API), 함수 API]\n",
        "* 이 튜토리얼에서는, **시퀀스 모델 API를 사용**하여 ***컨볼루션 레이어(CNN)을 반복하는 간단한 CNN 모델을 만들고 풀링 레이어, 드롭 아웃 레이어***를 만듭니다\n",
        "\n",
        "> 입력 데이터의 크기(shape)는 첫 번째 레이어에서만 정의해주면 됩니다. 마지막 레이어의 결과 값은 소프트맥스 활성화 함수를 거치며, 여기서 Fashion-MNIST의 10가지 범주의 데이터를 분류합니다. 마지막 레이어는 덴스(dense)레이어 로 소프트맥스 활성화가 되어있으며, fashion_mnist에서 10가지 범주의 데이터를 분류합니다.\n",
        "\n",
        "> **소프트맥스 함수**는 다중 클래스분류 문제에서 출력층에 주로 쓰입니다.\n",
        "덴스(dense)레이어는 이전 레이어의 모든 뉴런과 결합된 형태의 레이어입니다."
      ],
      "metadata": {
        "id": "abLTGkh2-Rs0"
      }
    },
    {
      "cell_type": "markdown",
      "source": [
        "#4.1 모델 구상"
      ],
      "metadata": {
        "id": "ifevC-3XL4BK"
      }
    },
    {
      "cell_type": "code",
      "source": [
        "#4. 모델 구상\n",
        "model = tf.keras.models.Sequential([\n",
        "      tf.keras.layers.Flatten(input_shape=(28, 28)),\n",
        "      tf.keras.layers.Dense(512, activation='relu'),\n",
        "      tf.keras.layers.Dense(10, activation='softmax')    \n",
        "])\n",
        "\n",
        "model.summary()"
      ],
      "metadata": {
        "colab": {
          "base_uri": "https://localhost:8080/"
        },
        "id": "fUmGHmw0-UCg",
        "outputId": "3b6e854a-9436-4e08-8537-b08395223980"
      },
      "execution_count": null,
      "outputs": [
        {
          "output_type": "stream",
          "name": "stdout",
          "text": [
            "Model: \"sequential_3\"\n",
            "_________________________________________________________________\n",
            " Layer (type)                Output Shape              Param #   \n",
            "=================================================================\n",
            " flatten_3 (Flatten)         (None, 784)               0         \n",
            "                                                                 \n",
            " dense_6 (Dense)             (None, 512)               401920    \n",
            "                                                                 \n",
            " dense_7 (Dense)             (None, 10)                5130      \n",
            "                                                                 \n",
            "=================================================================\n",
            "Total params: 407,050\n",
            "Trainable params: 407,050\n",
            "Non-trainable params: 0\n",
            "_________________________________________________________________\n"
          ]
        }
      ]
    },
    {
      "cell_type": "markdown",
      "source": [
        "#5.1 모델 컴파일하기"
      ],
      "metadata": {
        "id": "wGUM7kxeL706"
      }
    },
    {
      "cell_type": "code",
      "source": [
        "#5. 모델 컴파일\n",
        "model.compile(optimizer='adam', #최적화 함수\n",
        "              loss='sparse_categorical_crossentropy', #오차 함수\n",
        "              metrics=['accuracy']) #모델이 컴파일될때 모델 수행 결과를 나타내게끔 설정하는 부분. "
      ],
      "metadata": {
        "id": "lmVjImPD-zkj"
      },
      "execution_count": null,
      "outputs": []
    },
    {
      "cell_type": "markdown",
      "source": [
        "#6.1 모델 학습시키기(Train the model)\n",
        "\n",
        "---\n",
        "* **fit**을 사용하여 배치(batch) 사이즈는 64, 에포크(epochs)는 10으로 **모델을 학습**시킵니다. \n",
        "\n",
        "*  ModelCheckpoint API를 사용하여 에폭(epoch)마다 모델을 저장할 수 있습니다. **검증 정확도(validation accuracy)가 향상되었을 때 저장**하려면 save_best_only = True로 설정하면 됩니다.\n",
        "\n",
        "* **배치(batch)**는 전체 데이터 셋 중에서 64개씩 학습시키는 것을 말하며, 에포크(epochs)는 전체 데이터셋을 몇번 학습시킬 것인지를 나타냅니다.\n"
      ],
      "metadata": {
        "id": "RjAdgn8Q_FI-"
      }
    },
    {
      "cell_type": "code",
      "source": [
        "#6.모델 훈련\n",
        "model.fit(train_images, train_labels, epochs=5)"
      ],
      "metadata": {
        "colab": {
          "base_uri": "https://localhost:8080/"
        },
        "id": "nRqqintZ_HK3",
        "outputId": "ba88e303-7227-455f-ceb9-954d1a4ff34e"
      },
      "execution_count": null,
      "outputs": [
        {
          "output_type": "stream",
          "name": "stdout",
          "text": [
            "Epoch 1/5\n",
            "1875/1875 [==============================] - 9s 5ms/step - loss: 5.0830 - accuracy: 0.7642\n",
            "Epoch 2/5\n",
            "1875/1875 [==============================] - 9s 5ms/step - loss: 0.5401 - accuracy: 0.8164\n",
            "Epoch 3/5\n",
            "1875/1875 [==============================] - 9s 5ms/step - loss: 0.5164 - accuracy: 0.8223\n",
            "Epoch 4/5\n",
            "1875/1875 [==============================] - 9s 5ms/step - loss: 0.5005 - accuracy: 0.8313\n",
            "Epoch 5/5\n",
            "1875/1875 [==============================] - 9s 5ms/step - loss: 0.4857 - accuracy: 0.8377\n"
          ]
        },
        {
          "output_type": "execute_result",
          "data": {
            "text/plain": [
              "<keras.callbacks.History at 0x7f9a9ef47090>"
            ]
          },
          "metadata": {},
          "execution_count": 39
        }
      ]
    },
    {
      "cell_type": "markdown",
      "source": [
        "#7.1 모델의 정확도 평가하기\n",
        "\n",
        "---\n",
        "..evaluate()메서드를 이용해서 손실(loss)와 정확도(accuracy)를 얻을 수 있음.\n"
      ],
      "metadata": {
        "id": "9i2xvTBo_VmG"
      }
    },
    {
      "cell_type": "code",
      "source": [
        "#7. 모델의 정확도 평가하기\n",
        "loss, accuracy = model.evaluate(test_images, test_labels)\n",
        "print(loss, accuracy)\n",
        "\n",
        "#5회 epoch의 학습을 통해 10000개의 테스트 이미지를 82%의 정확도로 분류할 수 있음을 의미함."
      ],
      "metadata": {
        "colab": {
          "base_uri": "https://localhost:8080/"
        },
        "id": "J2ZHwJQ0_YUo",
        "outputId": "e12ca625-f69f-4ae8-c1b1-e2b4f37a0da1"
      },
      "execution_count": null,
      "outputs": [
        {
          "output_type": "stream",
          "name": "stdout",
          "text": [
            "313/313 [==============================] - 1s 3ms/step - loss: 0.5563 - accuracy: 0.8200\n",
            "0.5563375353813171 0.8199999928474426\n"
          ]
        }
      ]
    },
    {
      "cell_type": "markdown",
      "source": [
        "# #Test1>.. X 전처리 후 다시 학습시키면, 정확도가 더 높아질까??  : **82%->88% 으로 상승!**\n",
        "\n",
        "---\n",
        "X: (images)이제 이 데이터를 255로 나누어 주자. 0에서 255의 숫자의 배열로 이루어진 이미지 데이터를 255로 나누어 주어 0~1로 변환 사켜주는 작업이다. 케라스는 데이터를 0에서 1 사이의 값으로 변환한 다음 구동할 때 최적의 성능을 보이기 때문이다. 따라서 astype()함수를 통해 실수형으로 바꿔준 후 255로 나누는 작업을 진행 했다.\n"
      ],
      "metadata": {
        "id": "YfRwi5B7i1Xa"
      }
    },
    {
      "cell_type": "code",
      "source": [
        "#데이터 전처리\n",
        "train_images= train_images.reshape(train_images.shape[0], 28, 28, 1).astype('float32')/255.0 #훈련/테스트 이미지 데이터들을 0.0~1.0사이의 값을 갖도록 변환함.\n",
        "test_images = test_images.reshape(test_images.shape[0], 28, 28, 1).astype('float32')/255.0 "
      ],
      "metadata": {
        "id": "MBQi5NaIzY1q"
      },
      "execution_count": null,
      "outputs": []
    },
    {
      "cell_type": "code",
      "source": [
        "#4. 모델 구상\n",
        "model = tf.keras.models.Sequential([\n",
        "      tf.keras.layers.Flatten(input_shape=(28, 28)),\n",
        "      tf.keras.layers.Dense(512, activation='relu'),\n",
        "      tf.keras.layers.Dense(10, activation='softmax')    \n",
        "])\n",
        "\n",
        "model.summary()\n",
        "\n",
        "#5. 모델 컴파일\n",
        "model.compile(optimizer='adam',                       #활성화함수() .. sigmoid, relu, softmax..\n",
        "              loss='sparse_categorical_crossentropy', #손실함수()...cross-entropy, binary_crossentropy, categorical_crossentropy\n",
        "              metrics=['accuracy'])\n",
        "\n",
        "\n",
        "#6.모델 훈련\n",
        "model.fit(train_images, train_labels, epochs=5)"
      ],
      "metadata": {
        "colab": {
          "base_uri": "https://localhost:8080/"
        },
        "id": "HwQSzB1njDLG",
        "outputId": "43bf9c65-c179-4966-dd2e-4d70b429c2c4"
      },
      "execution_count": null,
      "outputs": [
        {
          "output_type": "stream",
          "name": "stdout",
          "text": [
            "Model: \"sequential_4\"\n",
            "_________________________________________________________________\n",
            " Layer (type)                Output Shape              Param #   \n",
            "=================================================================\n",
            " flatten_4 (Flatten)         (None, 784)               0         \n",
            "                                                                 \n",
            " dense_8 (Dense)             (None, 512)               401920    \n",
            "                                                                 \n",
            " dense_9 (Dense)             (None, 10)                5130      \n",
            "                                                                 \n",
            "=================================================================\n",
            "Total params: 407,050\n",
            "Trainable params: 407,050\n",
            "Non-trainable params: 0\n",
            "_________________________________________________________________\n",
            "Epoch 1/5\n",
            "1875/1875 [==============================] - 9s 5ms/step - loss: 0.4728 - accuracy: 0.8307\n",
            "Epoch 2/5\n",
            "1875/1875 [==============================] - 8s 5ms/step - loss: 0.3597 - accuracy: 0.8679\n",
            "Epoch 3/5\n",
            "1875/1875 [==============================] - 9s 5ms/step - loss: 0.3230 - accuracy: 0.8824\n",
            "Epoch 4/5\n",
            "1875/1875 [==============================] - 9s 5ms/step - loss: 0.2987 - accuracy: 0.8896\n",
            "Epoch 5/5\n",
            "1875/1875 [==============================] - 9s 5ms/step - loss: 0.2817 - accuracy: 0.8948\n"
          ]
        },
        {
          "output_type": "execute_result",
          "data": {
            "text/plain": [
              "<keras.callbacks.History at 0x7f9a9ef338d0>"
            ]
          },
          "metadata": {},
          "execution_count": 42
        }
      ]
    },
    {
      "cell_type": "markdown",
      "source": [
        "#8.1 예측하기"
      ],
      "metadata": {
        "id": "_XXJFwuS_yUd"
      }
    },
    {
      "cell_type": "code",
      "source": [
        "import numpy as np\n",
        "\n",
        "predictions = model.predict(test_images)\n",
        "print(predictions[5])\n",
        "print(np.argmax(predictions[5]))\n",
        "\n",
        "# 첫번째 예측 predictions[0]을 출력해보면 10개의 값을 갖는 어레이이며, 입력 이미지 데이터가 열개의 숫자중 어떤 숫자일지 확률을 의미함.\n",
        "# np.argmax()함수를 이용해서 가장 높은 값을 갖는 인덱스를 확인해보면 9를 출력함.\n",
        "#  ...즉, 학습된 신경망은 이 이미지가 ankle boot라고 예측합니다."
      ],
      "metadata": {
        "colab": {
          "base_uri": "https://localhost:8080/"
        },
        "id": "BSi_a4m9_0Hq",
        "outputId": "7c8f6210-cbb1-4734-b160-eadf0e764cbe"
      },
      "execution_count": null,
      "outputs": [
        {
          "output_type": "stream",
          "name": "stdout",
          "text": [
            "313/313 [==============================] - 1s 3ms/step\n",
            "[4.1528649e-05 9.9993950e-01 1.1586347e-07 1.4528892e-05 9.5131116e-07\n",
            " 7.6347685e-13 3.3019044e-06 1.4484015e-16 4.3137969e-09 3.1334851e-11]\n",
            "1\n"
          ]
        }
      ]
    },
    {
      "cell_type": "code",
      "source": [
        "#7. 모델의 정확도 평가하기\n",
        "loss, accuracy = model.evaluate(test_images, test_labels)\n",
        "print(loss, accuracy)\n",
        "\n",
        "#5회 epoch의 학습을 통해 10000개의 테스트 이미지를 88%의 정확도로 분류할 수 있음을 의미함."
      ],
      "metadata": {
        "colab": {
          "base_uri": "https://localhost:8080/"
        },
        "id": "zACbdx8GjGz8",
        "outputId": "d64cd20c-f096-4f76-db42-6ba78c3256bc"
      },
      "execution_count": null,
      "outputs": [
        {
          "output_type": "stream",
          "name": "stdout",
          "text": [
            "313/313 [==============================] - 1s 3ms/step - loss: 0.3318 - accuracy: 0.8802\n",
            "0.3317930996417999 0.8802000284194946\n"
          ]
        }
      ]
    },
    {
      "cell_type": "markdown",
      "source": [
        "# 9.1 뉴런의 개수의 영향\n",
        "\n",
        "\n",
        "---\n",
        " 가운데 뉴런 층의 뉴런 노드의 개수를 조절하면 훈련에 어떤 영향을 미치는지 알아보자~\n"
      ],
      "metadata": {
        "id": "iaAqMLgoApxc"
      }
    },
    {
      "cell_type": "code",
      "source": [
        "# 4. 모델의 구성\n",
        "model = tf.keras.models.Sequential([\n",
        "      tf.keras.layers.Flatten(input_shape=(28, 28)),\n",
        "      tf.keras.layers.Dense(128, activation='relu'), #CASE1    #87%\n",
        "      #tf.keras.layers.Dense(512, activation='relu'), #CASE2     \n",
        "      #tf.keras.layers.Dense(2048, activation='relu'), #CASE3    #86%\n",
        "      tf.keras.layers.Dense(10, activation='softmax')    \n",
        "])"
      ],
      "metadata": {
        "id": "828WPQrAAs_I"
      },
      "execution_count": null,
      "outputs": []
    },
    {
      "cell_type": "code",
      "source": [
        "#5. 모델 컴파일\n",
        "model.compile(optimizer='adam',                       #활성화함수() .. sigmoid, relu, softmax..\n",
        "              loss='sparse_categorical_crossentropy', #손실함수()...cross-entropy, binary_crossentropy, categorical_crossentropy\n",
        "              metrics=['accuracy'])\n"
      ],
      "metadata": {
        "id": "K_pawxcSBYqW"
      },
      "execution_count": null,
      "outputs": []
    },
    {
      "cell_type": "code",
      "source": [
        "#6.모델 훈련\n",
        "model.fit(train_images, train_labels, epochs=5)"
      ],
      "metadata": {
        "colab": {
          "base_uri": "https://localhost:8080/"
        },
        "id": "uW0P5XUABe12",
        "outputId": "c96cc927-07e4-41d2-b691-b2192a184b5d"
      },
      "execution_count": null,
      "outputs": [
        {
          "output_type": "stream",
          "name": "stdout",
          "text": [
            "Epoch 1/5\n",
            "1875/1875 [==============================] - 24s 12ms/step - loss: 0.4745 - accuracy: 0.8306\n",
            "Epoch 2/5\n",
            "1875/1875 [==============================] - 23s 12ms/step - loss: 0.3575 - accuracy: 0.8698\n",
            "Epoch 3/5\n",
            "1875/1875 [==============================] - 23s 12ms/step - loss: 0.3231 - accuracy: 0.8813\n",
            "Epoch 4/5\n",
            "1875/1875 [==============================] - 23s 12ms/step - loss: 0.2970 - accuracy: 0.8902\n",
            "Epoch 5/5\n",
            "1875/1875 [==============================] - 27s 15ms/step - loss: 0.2787 - accuracy: 0.8966\n"
          ]
        },
        {
          "output_type": "execute_result",
          "data": {
            "text/plain": [
              "<keras.callbacks.History at 0x7f9a9ef78d10>"
            ]
          },
          "metadata": {},
          "execution_count": 64
        }
      ]
    },
    {
      "cell_type": "code",
      "source": [
        "#7. 모델의 정확도 평가하기\n",
        "loss, accuracy = model.evaluate(test_images, test_labels)\n",
        "print(loss, accuracy)"
      ],
      "metadata": {
        "colab": {
          "base_uri": "https://localhost:8080/"
        },
        "id": "AsICpM7VBmXF",
        "outputId": "fe331ffa-1ed4-47d2-96d5-58830a0ea346"
      },
      "execution_count": null,
      "outputs": [
        {
          "output_type": "stream",
          "name": "stdout",
          "text": [
            "313/313 [==============================] - 1s 3ms/step - loss: 0.3894 - accuracy: 0.8645\n",
            "0.38942721486091614 0.8644999861717224\n"
          ]
        }
      ]
    },
    {
      "cell_type": "code",
      "source": [
        "import numpy as np\n",
        "\n",
        "predictions = model.predict(test_images)\n",
        "print(predictions[0])\n",
        "print(np.argmax(predictions[0]))"
      ],
      "metadata": {
        "colab": {
          "base_uri": "https://localhost:8080/"
        },
        "id": "y9j08KvPBqDd",
        "outputId": "5b54a563-03df-4d92-9489-180499214bfd"
      },
      "execution_count": null,
      "outputs": [
        {
          "output_type": "stream",
          "name": "stdout",
          "text": [
            "313/313 [==============================] - 1s 2ms/step\n",
            "[3.0177574e-05 8.8189819e-07 1.7113180e-05 6.5359410e-07 3.6281363e-05\n",
            " 8.8355923e-03 6.4020409e-05 4.7769133e-02 8.9832227e-04 9.4234771e-01]\n",
            "9\n"
          ]
        }
      ]
    },
    {
      "cell_type": "markdown",
      "source": [
        "*  뉴런 노드의 개수가 증가하면 훈련 과정에서 손실 값이 감소하고 테스트 정확도는 증가하는 경향이 있습니다. \n",
        "*  하지만 계산과 최적화를 필요로 하는 파라미터의 숫자가 증가하기 때문에 훈련에 걸리는 시간은 증가합니다.\n",
        "*  512개와 1024개에서 손실과 정확도의 증가가 크지 않은 이유는 Fashion MNIST분류 문제가 비교적 간단한 문제이기 때문임. \n",
        "*  따라서 문제에 맞게 적절한 개수의 뉴런을 사용하면서 짧은 훈련 시간 동안 높은 정확도를 얻는 것이 좋음."
      ],
      "metadata": {
        "id": "nU23r2nyB5hK"
      }
    },
    {
      "cell_type": "code",
      "source": [
        "#fashion_mnist_labels[label_index] 활용해 변경byKB\n",
        "\n",
        "import numpy as np\n",
        "\n",
        "predictions = model.predict(test_images)\n",
        "\n",
        "label_index = 5\n",
        "print(predictions[label_index])           #이걸 변수로 넣어보자~\n",
        "print(np.argmax(predictions[label_index]))\n",
        "\n",
        "predict_label_index = np.argmax(predictions[label_index])\n",
        "print(\"예상 카테고리: \", fashion_mnist_labels[predict_label_index])"
      ],
      "metadata": {
        "colab": {
          "base_uri": "https://localhost:8080/"
        },
        "id": "YOj4wt2NOYGA",
        "outputId": "ffb2c6b1-e78e-48ea-c91d-50f3164bb87c"
      },
      "execution_count": null,
      "outputs": [
        {
          "output_type": "stream",
          "name": "stdout",
          "text": [
            "313/313 [==============================] - 1s 2ms/step\n",
            "[3.4699180e-05 9.9995953e-01 1.0560709e-06 3.5339451e-07 9.6108954e-07\n",
            " 3.8133182e-13 3.3446613e-06 1.5228178e-11 4.9214390e-11 4.6148038e-12]\n",
            "1\n",
            "예상 카테고리:  Trouser\n"
          ]
        }
      ]
    },
    {
      "cell_type": "markdown",
      "source": [
        "#10. 콜백(callback) 사용하기\n",
        "\n",
        "---\n",
        "훈련 중에 손실 값이 특정 기준 미만이 되었을 때 훈련을 중단할 수 있음.\n"
      ],
      "metadata": {
        "id": "_0MaZji6Cqau"
      }
    },
    {
      "cell_type": "code",
      "source": [
        "import tensorflow as tf\n",
        "\n",
        "class myCallback(tf.keras.callbacks.Callback):\n",
        "  def on_epoch_end(self, epoch, logs={} ):\n",
        "    if logs.get('loss') < 0.3:\n",
        "      print('\\n 훈련을 중지합니다.')\n",
        "      self.model.stop_training= True\n",
        "\n",
        "callbacks = myCallback()\n",
        "\n",
        "#1. 데이터셋 임포트\n",
        "fashion_mnist = tf.keras.datasets.fashion_mnist\n",
        "(train_images, train_labels), (test_images, test_labels) = fashion_mnist.load_data()\n",
        "\n",
        "#2. 데이터 전처리\n",
        "train_images, test_images = train_images/255.0, test_images/255.0\n",
        "\n",
        "#4. 모델 구성\n",
        "model = tf.keras.models.Sequential([\n",
        "      tf.keras.layers.Flatten(input_shape=(28, 28)),      \n",
        "      tf.keras.layers.Dense(512, activation='relu'),\n",
        "      tf.keras.layers.Dense(10, activation='softmax')    \n",
        "])\n",
        "\n",
        "#5. 모델 컴파일\n",
        "model.compile(optimizer='adam',\n",
        "              loss='sparse_categorical_crossentropy',\n",
        "              metrics=['accuracy'])\n",
        "\n",
        "#6.모델 훈련\n",
        "model.fit(train_images, train_labels, epochs=5)\n",
        "\n",
        "#7. 모델의 정확도 평가하기\n",
        "loss, accuracy = model.evaluate(test_images, test_labels)\n",
        "print(loss, accuracy)"
      ],
      "metadata": {
        "colab": {
          "base_uri": "https://localhost:8080/"
        },
        "id": "jGu-pPhWC1-f",
        "outputId": "d547f0fe-e0aa-4bbe-8860-99d95b7e89a3"
      },
      "execution_count": null,
      "outputs": [
        {
          "output_type": "stream",
          "name": "stdout",
          "text": [
            "Epoch 1/5\n",
            "1875/1875 [==============================] - 6s 3ms/step - loss: 0.4717 - accuracy: 0.8310\n",
            "Epoch 2/5\n",
            "1875/1875 [==============================] - 5s 3ms/step - loss: 0.3582 - accuracy: 0.8694\n",
            "Epoch 3/5\n",
            "1875/1875 [==============================] - 5s 3ms/step - loss: 0.3220 - accuracy: 0.8829\n",
            "Epoch 4/5\n",
            "1875/1875 [==============================] - 5s 3ms/step - loss: 0.2995 - accuracy: 0.8898\n",
            "Epoch 5/5\n",
            "1875/1875 [==============================] - 5s 3ms/step - loss: 0.2797 - accuracy: 0.8959\n",
            "313/313 [==============================] - 1s 2ms/step - loss: 0.3800 - accuracy: 0.8663\n",
            "0.37998878955841064 0.8662999868392944\n"
          ]
        }
      ]
    },
    {
      "cell_type": "markdown",
      "source": [
        "훈련 중에 손실 값이 특정 기준 미만이 되었을 때 훈련을 중단할 수 있습니다."
      ],
      "metadata": {
        "id": "jY4zePWjD2zp"
      }
    },
    {
      "cell_type": "markdown",
      "source": [
        "# pj2>=====CNN을 사용한 Fashion mnist 분류======\n",
        ". *CNN*적용, 정확도가 더 높아질까??\n",
        "---\n",
        "https://dacon.io/competitions/open/235594/codeshare/2869\n",
        "\n",
        "4-1. 모델 설계\n",
        "모델을 만들어보자. 우선 model.Sequential()한수를 사용하여 model을 선언 해주고 model.add()를 사용하여 차곡차곡 하나씩 층을 만들어 주려고 한다. 다음을 보자.\n",
        "\n",
        "**a. Convolution층**\n",
        "\n",
        "* 케라스에서 Convolution층을 추가하는 함수는 Conv2D()이다.\n",
        "* * model.add(Conv2D(32, kernel_size = (3,3), input_shape=(28,28,1), activation='relu'))\n",
        "32: 32개의 mask를 사용\n",
        "* * kernel_size: (3,3)의 커널을 정한다.\n",
        "* * input_shape: (28,28,1)\n",
        "* * activation: 활성화 함수를 relu로 정해준다.\n",
        "\n",
        "* model.add(Conv2D(64,(3,3), activation='relu'))\n",
        "* * mask 64를 적용한 새로운 Convolution층을 하나 더 추가한다.\n",
        "\n",
        "**b. Maxpooling**\n",
        "\n",
        "이제 추가로 Maxpooling 층울 추가 하보자. convolution으로 층을 추가 했지만 여전히 크기 때문에 한번 더 축소를 진행 한다.\n",
        "\n",
        "* model.add(MaxPooling2D(pool_size=2))\n",
        "* * pool_size: pooling창의 크기를 정하는 것으로 2로 정하여 줄여 주었다.\n",
        "\n",
        "**c. Drop out & Flatten**\n",
        "\n",
        "* model.add(Dropout(0.25))\n",
        "* * 딥러닝을 학습할때 과적합을 효과적으로 피해가는 방법중 다음의 기법이 있다. drop out기법인데, 이는 은닉층에 배치된 노드 중 일부를 임의로 껴주는 것이다.\n",
        "\n",
        "* model.add(Flatten())\n",
        "* * convolution이나 max pooling는 2차원 배열인 채로 다루는데, 이를 1차원으로 바꿔주자."
      ],
      "metadata": {
        "id": "Klyei5-8kp3x"
      }
    },
    {
      "cell_type": "markdown",
      "source": [
        "#1.1 Fashion MNIst 데이터셋 불러오기"
      ],
      "metadata": {
        "id": "Lw_fc1KlMbgA"
      }
    },
    {
      "cell_type": "code",
      "source": [
        "#1. Fashion MNIst 데이터셋 불러오기\n",
        "import tensorflow as tf\n",
        "\n",
        "fashion_mnist = tf.keras.datasets.fashion_mnist\n",
        "(train_images, train_labels), (test_images, test_labels) = fashion_mnist.load_data()"
      ],
      "metadata": {
        "id": "JunHfTW9bSMw",
        "colab": {
          "base_uri": "https://localhost:8080/"
        },
        "outputId": "3c6d37af-62eb-4400-f3de-3b056b631bf4"
      },
      "execution_count": 2,
      "outputs": [
        {
          "output_type": "stream",
          "name": "stdout",
          "text": [
            "Downloading data from https://storage.googleapis.com/tensorflow/tf-keras-datasets/train-labels-idx1-ubyte.gz\n",
            "29515/29515 [==============================] - 0s 0us/step\n",
            "Downloading data from https://storage.googleapis.com/tensorflow/tf-keras-datasets/train-images-idx3-ubyte.gz\n",
            "26421880/26421880 [==============================] - 0s 0us/step\n",
            "Downloading data from https://storage.googleapis.com/tensorflow/tf-keras-datasets/t10k-labels-idx1-ubyte.gz\n",
            "5148/5148 [==============================] - 0s 0us/step\n",
            "Downloading data from https://storage.googleapis.com/tensorflow/tf-keras-datasets/t10k-images-idx3-ubyte.gz\n",
            "4422102/4422102 [==============================] - 0s 0us/step\n"
          ]
        }
      ]
    },
    {
      "cell_type": "markdown",
      "source": [
        "#2.1 레이블 정의"
      ],
      "metadata": {
        "id": "3UialutEMr_V"
      }
    },
    {
      "cell_type": "code",
      "source": [
        "#2.1 레이블 정의\n",
        "fashion_mnist_labels = [\"T-shirt/top\", #인덱스 0\n",
        "                        \"Trouser\",      #인덱스 1\n",
        "                        \"Pullover\",     # 인덱스 2\n",
        "                        \"Dress\",        # 인덱스 3\n",
        "                        \"Coat\",         # 인덱스 4\n",
        "                        \"Sandal\",       # 인덱스 5\n",
        "                        \"Shirt\",        # 인덱스 6\n",
        "                        \"Sneaker\",      # 인덱스 7\n",
        "                        \"Bag\",          # 인덱스 8\n",
        "                        \"Ankle boot\"]   # 인덱스 9                                                                "
      ],
      "metadata": {
        "id": "hiF4UShhF_hV"
      },
      "execution_count": 19,
      "outputs": []
    },
    {
      "cell_type": "code",
      "source": [
        "'''\n",
        "# 데이터 용량 줄이기~~~~~~~(수업내 안 끝날 수 있으니, 10000개의 이미지 데이터 중 8000개/2000개로 분리시켜 줌.)\n",
        "#1. Train/test set 분류\n",
        "from sklearn.model_selection import train_test_split\n",
        "train_images, train_labels, test_images, test_labels = train_test_split(train_images, train_labels,test_size=0.2, random_state=100)\n",
        "\n",
        "train_images = train_images.values.reshape(-1, 28, 28, 1)\n",
        "\n",
        "\n",
        "print(\"Train set 이미지수: {}개\".format(train_images.shape[0]))\n",
        "print(\"Validation set 이미지수: {}개\".format(test_images.shape[0]))\n",
        "'''"
      ],
      "metadata": {
        "colab": {
          "base_uri": "https://localhost:8080/",
          "height": 401
        },
        "id": "otKK-Har9mkX",
        "outputId": "d1685da7-0fd7-4f32-9185-d5fcf37f90a5"
      },
      "execution_count": null,
      "outputs": [
        {
          "output_type": "error",
          "ename": "ValueError",
          "evalue": "ignored",
          "traceback": [
            "\u001b[0;31m---------------------------------------------------------------------------\u001b[0m",
            "\u001b[0;31mValueError\u001b[0m                                Traceback (most recent call last)",
            "\u001b[0;32m<ipython-input-8-157866237587>\u001b[0m in \u001b[0;36m<module>\u001b[0;34m\u001b[0m\n\u001b[1;32m      2\u001b[0m \u001b[0;31m#1. Train/test set 분류\u001b[0m\u001b[0;34m\u001b[0m\u001b[0;34m\u001b[0m\u001b[0;34m\u001b[0m\u001b[0m\n\u001b[1;32m      3\u001b[0m \u001b[0;32mfrom\u001b[0m \u001b[0msklearn\u001b[0m\u001b[0;34m.\u001b[0m\u001b[0mmodel_selection\u001b[0m \u001b[0;32mimport\u001b[0m \u001b[0mtrain_test_split\u001b[0m\u001b[0;34m\u001b[0m\u001b[0;34m\u001b[0m\u001b[0m\n\u001b[0;32m----> 4\u001b[0;31m \u001b[0mtrain_images\u001b[0m\u001b[0;34m,\u001b[0m \u001b[0mtrain_labels\u001b[0m\u001b[0;34m,\u001b[0m \u001b[0mtest_images\u001b[0m\u001b[0;34m,\u001b[0m \u001b[0mtest_labels\u001b[0m \u001b[0;34m=\u001b[0m \u001b[0mtrain_test_split\u001b[0m\u001b[0;34m(\u001b[0m\u001b[0mtrain_images\u001b[0m\u001b[0;34m,\u001b[0m \u001b[0mtrain_labels\u001b[0m\u001b[0;34m,\u001b[0m\u001b[0mtest_size\u001b[0m\u001b[0;34m=\u001b[0m\u001b[0;36m0.2\u001b[0m\u001b[0;34m,\u001b[0m \u001b[0mrandom_state\u001b[0m\u001b[0;34m=\u001b[0m\u001b[0;36m100\u001b[0m\u001b[0;34m)\u001b[0m\u001b[0;34m\u001b[0m\u001b[0;34m\u001b[0m\u001b[0m\n\u001b[0m\u001b[1;32m      5\u001b[0m \u001b[0;34m\u001b[0m\u001b[0m\n\u001b[1;32m      6\u001b[0m \u001b[0mtrain_images\u001b[0m \u001b[0;34m=\u001b[0m \u001b[0mtrain_images\u001b[0m\u001b[0;34m.\u001b[0m\u001b[0mvalues\u001b[0m\u001b[0;34m.\u001b[0m\u001b[0mreshape\u001b[0m\u001b[0;34m(\u001b[0m\u001b[0;34m-\u001b[0m\u001b[0;36m1\u001b[0m\u001b[0;34m,\u001b[0m \u001b[0;36m28\u001b[0m\u001b[0;34m,\u001b[0m \u001b[0;36m28\u001b[0m\u001b[0;34m,\u001b[0m \u001b[0;36m1\u001b[0m\u001b[0;34m)\u001b[0m\u001b[0;34m\u001b[0m\u001b[0;34m\u001b[0m\u001b[0m\n",
            "\u001b[0;32m/usr/local/lib/python3.7/dist-packages/sklearn/model_selection/_split.py\u001b[0m in \u001b[0;36mtrain_test_split\u001b[0;34m(test_size, train_size, random_state, shuffle, stratify, *arrays)\u001b[0m\n\u001b[1;32m   2415\u001b[0m         \u001b[0;32mraise\u001b[0m \u001b[0mValueError\u001b[0m\u001b[0;34m(\u001b[0m\u001b[0;34m\"At least one array required as input\"\u001b[0m\u001b[0;34m)\u001b[0m\u001b[0;34m\u001b[0m\u001b[0;34m\u001b[0m\u001b[0m\n\u001b[1;32m   2416\u001b[0m \u001b[0;34m\u001b[0m\u001b[0m\n\u001b[0;32m-> 2417\u001b[0;31m     \u001b[0marrays\u001b[0m \u001b[0;34m=\u001b[0m \u001b[0mindexable\u001b[0m\u001b[0;34m(\u001b[0m\u001b[0;34m*\u001b[0m\u001b[0marrays\u001b[0m\u001b[0;34m)\u001b[0m\u001b[0;34m\u001b[0m\u001b[0;34m\u001b[0m\u001b[0m\n\u001b[0m\u001b[1;32m   2418\u001b[0m \u001b[0;34m\u001b[0m\u001b[0m\n\u001b[1;32m   2419\u001b[0m     \u001b[0mn_samples\u001b[0m \u001b[0;34m=\u001b[0m \u001b[0m_num_samples\u001b[0m\u001b[0;34m(\u001b[0m\u001b[0marrays\u001b[0m\u001b[0;34m[\u001b[0m\u001b[0;36m0\u001b[0m\u001b[0;34m]\u001b[0m\u001b[0;34m)\u001b[0m\u001b[0;34m\u001b[0m\u001b[0;34m\u001b[0m\u001b[0m\n",
            "\u001b[0;32m/usr/local/lib/python3.7/dist-packages/sklearn/utils/validation.py\u001b[0m in \u001b[0;36mindexable\u001b[0;34m(*iterables)\u001b[0m\n\u001b[1;32m    376\u001b[0m \u001b[0;34m\u001b[0m\u001b[0m\n\u001b[1;32m    377\u001b[0m     \u001b[0mresult\u001b[0m \u001b[0;34m=\u001b[0m \u001b[0;34m[\u001b[0m\u001b[0m_make_indexable\u001b[0m\u001b[0;34m(\u001b[0m\u001b[0mX\u001b[0m\u001b[0;34m)\u001b[0m \u001b[0;32mfor\u001b[0m \u001b[0mX\u001b[0m \u001b[0;32min\u001b[0m \u001b[0miterables\u001b[0m\u001b[0;34m]\u001b[0m\u001b[0;34m\u001b[0m\u001b[0;34m\u001b[0m\u001b[0m\n\u001b[0;32m--> 378\u001b[0;31m     \u001b[0mcheck_consistent_length\u001b[0m\u001b[0;34m(\u001b[0m\u001b[0;34m*\u001b[0m\u001b[0mresult\u001b[0m\u001b[0;34m)\u001b[0m\u001b[0;34m\u001b[0m\u001b[0;34m\u001b[0m\u001b[0m\n\u001b[0m\u001b[1;32m    379\u001b[0m     \u001b[0;32mreturn\u001b[0m \u001b[0mresult\u001b[0m\u001b[0;34m\u001b[0m\u001b[0;34m\u001b[0m\u001b[0m\n\u001b[1;32m    380\u001b[0m \u001b[0;34m\u001b[0m\u001b[0m\n",
            "\u001b[0;32m/usr/local/lib/python3.7/dist-packages/sklearn/utils/validation.py\u001b[0m in \u001b[0;36mcheck_consistent_length\u001b[0;34m(*arrays)\u001b[0m\n\u001b[1;32m    332\u001b[0m         raise ValueError(\n\u001b[1;32m    333\u001b[0m             \u001b[0;34m\"Found input variables with inconsistent numbers of samples: %r\"\u001b[0m\u001b[0;34m\u001b[0m\u001b[0;34m\u001b[0m\u001b[0m\n\u001b[0;32m--> 334\u001b[0;31m             \u001b[0;34m%\u001b[0m \u001b[0;34m[\u001b[0m\u001b[0mint\u001b[0m\u001b[0;34m(\u001b[0m\u001b[0ml\u001b[0m\u001b[0;34m)\u001b[0m \u001b[0;32mfor\u001b[0m \u001b[0ml\u001b[0m \u001b[0;32min\u001b[0m \u001b[0mlengths\u001b[0m\u001b[0;34m]\u001b[0m\u001b[0;34m\u001b[0m\u001b[0;34m\u001b[0m\u001b[0m\n\u001b[0m\u001b[1;32m    335\u001b[0m         )\n\u001b[1;32m    336\u001b[0m \u001b[0;34m\u001b[0m\u001b[0m\n",
            "\u001b[0;31mValueError\u001b[0m: Found input variables with inconsistent numbers of samples: [48000, 12000]"
          ]
        }
      ]
    },
    {
      "cell_type": "markdown",
      "source": [
        "#3.1 데이터 전처리"
      ],
      "metadata": {
        "id": "WbpSnXJhMjou"
      }
    },
    {
      "cell_type": "code",
      "source": [
        "#3.1 데이터 전처리\n",
        "train_images= train_images.reshape(train_images.shape[0], 28, 28, 1).astype('float32')/255.0 #훈련/테스트 이미지 데이터들을 0.0~1.0사이의 값을 갖도록 변환함.\n",
        "test_images = test_images.reshape(test_images.shape[0], 28, 28, 1).astype('float32')/255.0 \n",
        "\n",
        "train_labels = tf.keras.utils.to_categorical(train_labels) #0, 1로만 이루어진 원핫인코딩 적용. keras.utils.to_categorical()\n",
        "test_labels = tf.keras.utils.to_categorical(test_labels)"
      ],
      "metadata": {
        "id": "LxjT6JCakowY"
      },
      "execution_count": 4,
      "outputs": []
    },
    {
      "cell_type": "markdown",
      "source": [
        "#4.1 컨볼루션 신경망 설정\n",
        "---\n",
        "* Keras에서 모델을 정의하기위한 두 가지 API는 다음과 같습니다. [ 시퀀스 모델 API(순차 모델 API), 함수 API]\n",
        "* 이 튜토리얼에서는, **시퀀스 모델 API를 사용**하여 ***컨볼루션 레이어(CNN)을 반복하는 간단한 CNN 모델을 만들고 풀링 레이어, 드롭 아웃 레이어***를 만듭니다\n",
        "\n",
        "> 입력 데이터의 크기(shape)는 첫 번째 레이어에서만 정의해주면 됩니다. 마지막 레이어의 결과 값은 소프트맥스 활성화 함수를 거치며, 여기서 Fashion-MNIST의 10가지 범주의 데이터를 분류합니다. 마지막 레이어는 덴스(dense)레이어 로 소프트맥스 활성화가 되어있으며, fashion_mnist에서 10가지 범주의 데이터를 분류합니다.\n",
        "\n",
        "> **소프트맥스 함수**는 다중 클래스분류 문제에서 출력층에 주로 쓰입니다.\n",
        "덴스(dense)레이어는 이전 레이어의 모든 뉴런과 결합된 형태의 레이어입니다."
      ],
      "metadata": {
        "id": "3s1NqVFMMlwS"
      }
    },
    {
      "cell_type": "code",
      "source": [
        "#4. 컨볼루션 신경망 설정\n",
        "from keras.models import Sequential\n",
        "from keras.layers import Dense, Dropout, Flatten, Conv2D, MaxPooling2D\n",
        "\n",
        "model = Sequential()\n",
        "\n",
        "model.add(Conv2D(32, kernel_size=(3, 3), input_shape=(28, 28, 1), activation='relu'))\n",
        "model.add(Conv2D(64, (3, 3), activation='relu'))\n",
        "model.add(MaxPooling2D(pool_size=2))\n",
        "model.add(Dropout(0.25))\n",
        "model.add(Flatten())\n",
        "model.add(Dense(128, activation='relu'))\n",
        "model.add(Dropout(0.5))\n",
        "model.add(Dense(10, activation='softmax'))\n",
        "\n",
        "model.summary()"
      ],
      "metadata": {
        "colab": {
          "base_uri": "https://localhost:8080/"
        },
        "id": "OmC8aOx8no26",
        "outputId": "e9a29dcc-d38e-462a-cfe4-564ae71cabb4"
      },
      "execution_count": 5,
      "outputs": [
        {
          "output_type": "stream",
          "name": "stdout",
          "text": [
            "Model: \"sequential\"\n",
            "_________________________________________________________________\n",
            " Layer (type)                Output Shape              Param #   \n",
            "=================================================================\n",
            " conv2d (Conv2D)             (None, 26, 26, 32)        320       \n",
            "                                                                 \n",
            " conv2d_1 (Conv2D)           (None, 24, 24, 64)        18496     \n",
            "                                                                 \n",
            " max_pooling2d (MaxPooling2D  (None, 12, 12, 64)       0         \n",
            " )                                                               \n",
            "                                                                 \n",
            " dropout (Dropout)           (None, 12, 12, 64)        0         \n",
            "                                                                 \n",
            " flatten (Flatten)           (None, 9216)              0         \n",
            "                                                                 \n",
            " dense (Dense)               (None, 128)               1179776   \n",
            "                                                                 \n",
            " dropout_1 (Dropout)         (None, 128)               0         \n",
            "                                                                 \n",
            " dense_1 (Dense)             (None, 10)                1290      \n",
            "                                                                 \n",
            "=================================================================\n",
            "Total params: 1,199,882\n",
            "Trainable params: 1,199,882\n",
            "Non-trainable params: 0\n",
            "_________________________________________________________________\n"
          ]
        }
      ]
    },
    {
      "cell_type": "markdown",
      "source": [
        "#5.1 모델 컴파일"
      ],
      "metadata": {
        "id": "Xjt7V-zXMyQ0"
      }
    },
    {
      "cell_type": "code",
      "source": [
        "#5. 모델 컴파일\n",
        "model.compile(optimizer='adam',                       #활성화함수() .. sigmoid, relu, softmax..\n",
        "              #loss='sparse_categorical_crossentropy', #손실함수()...cross-entropy, binary_crossentropy, categorical_crossentropy\n",
        "              loss = 'categorical_crossentropy',\n",
        "              metrics=['accuracy'])"
      ],
      "metadata": {
        "id": "TroOYnNwexU9"
      },
      "execution_count": 6,
      "outputs": []
    },
    {
      "cell_type": "code",
      "source": [
        "#5.1 모델 최적화 설정\n",
        "from keras.callbacks import ModelCheckpoint, EarlyStopping\n",
        "import os\n",
        "\n",
        "MODEL_DIR = './model/'\n",
        "if not os.path.exists(MODEL_DIR):\n",
        "  os.mkdir(MODEL_DIR)\n",
        "\n",
        "modelpath = '{epoch:02d}-{val_loss:.4f}.hdf5'\n",
        "checkpointer = ModelCheckpoint(filepath=modelpath, monitor='val_loss', verbose=1, save_best_only=True)\n",
        "\n",
        "early_stopping_callback = EarlyStopping(monitor='val_loss', patience=10)"
      ],
      "metadata": {
        "id": "T8TITFZ58Jwo"
      },
      "execution_count": 9,
      "outputs": []
    },
    {
      "cell_type": "markdown",
      "source": [
        "#6.1 모델 학습시키기(Train the model)\n",
        "\n",
        "---\n",
        "* **fit**을 사용하여 배치(batch) 사이즈는 64, 에포크(epochs)는 10으로 **모델을 학습**시킵니다. \n",
        "\n",
        "*  ModelCheckpoint API를 사용하여 에폭(epoch)마다 모델을 저장할 수 있습니다. **검증 정확도(validation accuracy)가 향상되었을 때 저장**하려면 save_best_only = True로 설정하면 됩니다.\n",
        "\n",
        "* **배치(batch)**는 전체 데이터 셋 중에서 64개씩 학습시키는 것을 말하며, 에포크(epochs)는 전체 데이터셋을 몇번 학습시킬 것인지를 나타냅니다.\n"
      ],
      "metadata": {
        "id": "rNw1u3pf8_V1"
      }
    },
    {
      "cell_type": "code",
      "source": [
        "#6.모델 훈련\n",
        "history = model.fit(train_images, train_labels, validation_data=(test_images, test_labels),\n",
        "                    epochs=20, batch_size=200, verbose=0,          \n",
        "                    callbacks=[early_stopping_callback, checkpointer] )\n"
      ],
      "metadata": {
        "colab": {
          "base_uri": "https://localhost:8080/",
          "height": 1000
        },
        "id": "UlquS2NI8E4c",
        "outputId": "917906e8-f475-4a64-f045-cf7dbd36c901"
      },
      "execution_count": 11,
      "outputs": [
        {
          "output_type": "stream",
          "name": "stdout",
          "text": [
            "\n",
            "Epoch 1: val_loss improved from inf to 0.61907, saving model to 01-0.6191.hdf5\n",
            "\n",
            "Epoch 2: val_loss improved from 0.61907 to 0.56332, saving model to 02-0.5633.hdf5\n",
            "\n",
            "Epoch 3: val_loss improved from 0.56332 to 0.54108, saving model to 03-0.5411.hdf5\n",
            "\n",
            "Epoch 4: val_loss improved from 0.54108 to 0.50518, saving model to 04-0.5052.hdf5\n",
            "\n",
            "Epoch 5: val_loss improved from 0.50518 to 0.49088, saving model to 05-0.4909.hdf5\n",
            "\n",
            "Epoch 6: val_loss improved from 0.49088 to 0.47058, saving model to 06-0.4706.hdf5\n",
            "\n",
            "Epoch 7: val_loss improved from 0.47058 to 0.45663, saving model to 07-0.4566.hdf5\n",
            "\n",
            "Epoch 8: val_loss improved from 0.45663 to 0.44799, saving model to 08-0.4480.hdf5\n",
            "\n",
            "Epoch 9: val_loss improved from 0.44799 to 0.43237, saving model to 09-0.4324.hdf5\n",
            "\n",
            "Epoch 10: val_loss improved from 0.43237 to 0.41633, saving model to 10-0.4163.hdf5\n",
            "\n",
            "Epoch 11: val_loss improved from 0.41633 to 0.41479, saving model to 11-0.4148.hdf5\n",
            "\n",
            "Epoch 12: val_loss improved from 0.41479 to 0.39996, saving model to 12-0.4000.hdf5\n",
            "\n",
            "Epoch 13: val_loss improved from 0.39996 to 0.38106, saving model to 13-0.3811.hdf5\n",
            "\n",
            "Epoch 14: val_loss did not improve from 0.38106\n",
            "\n",
            "Epoch 15: val_loss improved from 0.38106 to 0.37118, saving model to 15-0.3712.hdf5\n",
            "\n",
            "Epoch 16: val_loss improved from 0.37118 to 0.35465, saving model to 16-0.3546.hdf5\n",
            "\n",
            "Epoch 17: val_loss improved from 0.35465 to 0.34951, saving model to 17-0.3495.hdf5\n",
            "\n",
            "Epoch 18: val_loss improved from 0.34951 to 0.33789, saving model to 18-0.3379.hdf5\n",
            "\n",
            "Epoch 19: val_loss did not improve from 0.33789\n",
            "\n",
            "Epoch 20: val_loss improved from 0.33789 to 0.32251, saving model to 20-0.3225.hdf5\n"
          ]
        },
        {
          "output_type": "error",
          "ename": "ValueError",
          "evalue": "ignored",
          "traceback": [
            "\u001b[0;31m---------------------------------------------------------------------------\u001b[0m",
            "\u001b[0;31mValueError\u001b[0m                                Traceback (most recent call last)",
            "\u001b[0;32m<ipython-input-11-f91b7b873e71>\u001b[0m in \u001b[0;36m<module>\u001b[0;34m\u001b[0m\n\u001b[1;32m      4\u001b[0m           callbacks=[early_stopping_callback, checkpointer] )\n\u001b[1;32m      5\u001b[0m \u001b[0;34m\u001b[0m\u001b[0m\n\u001b[0;32m----> 6\u001b[0;31m \u001b[0mprint\u001b[0m\u001b[0;34m(\u001b[0m\u001b[0;34m\"\\n Test Accuracy: %.4f\"\u001b[0m \u001b[0;34m%\u001b[0m \u001b[0;34m(\u001b[0m\u001b[0mmodel\u001b[0m\u001b[0;34m.\u001b[0m\u001b[0mevaluate\u001b[0m\u001b[0;34m(\u001b[0m\u001b[0mtest_images\u001b[0m\u001b[0;34m,\u001b[0m \u001b[0mtest_labels\u001b[0m\u001b[0;34m[\u001b[0m\u001b[0;36m1\u001b[0m\u001b[0;34m]\u001b[0m\u001b[0;34m)\u001b[0m\u001b[0;34m)\u001b[0m\u001b[0;34m)\u001b[0m\u001b[0;34m\u001b[0m\u001b[0;34m\u001b[0m\u001b[0m\n\u001b[0m\u001b[1;32m      7\u001b[0m \u001b[0;34m\u001b[0m\u001b[0m\n\u001b[1;32m      8\u001b[0m \u001b[0;31m#(train_images, train_labels), (test_images, test_labels) = fashion_mnist.load_data()\u001b[0m\u001b[0;34m\u001b[0m\u001b[0;34m\u001b[0m\u001b[0;34m\u001b[0m\u001b[0m\n",
            "\u001b[0;32m/usr/local/lib/python3.7/dist-packages/keras/utils/traceback_utils.py\u001b[0m in \u001b[0;36merror_handler\u001b[0;34m(*args, **kwargs)\u001b[0m\n\u001b[1;32m     65\u001b[0m     \u001b[0;32mexcept\u001b[0m \u001b[0mException\u001b[0m \u001b[0;32mas\u001b[0m \u001b[0me\u001b[0m\u001b[0;34m:\u001b[0m  \u001b[0;31m# pylint: disable=broad-except\u001b[0m\u001b[0;34m\u001b[0m\u001b[0;34m\u001b[0m\u001b[0m\n\u001b[1;32m     66\u001b[0m       \u001b[0mfiltered_tb\u001b[0m \u001b[0;34m=\u001b[0m \u001b[0m_process_traceback_frames\u001b[0m\u001b[0;34m(\u001b[0m\u001b[0me\u001b[0m\u001b[0;34m.\u001b[0m\u001b[0m__traceback__\u001b[0m\u001b[0;34m)\u001b[0m\u001b[0;34m\u001b[0m\u001b[0;34m\u001b[0m\u001b[0m\n\u001b[0;32m---> 67\u001b[0;31m       \u001b[0;32mraise\u001b[0m \u001b[0me\u001b[0m\u001b[0;34m.\u001b[0m\u001b[0mwith_traceback\u001b[0m\u001b[0;34m(\u001b[0m\u001b[0mfiltered_tb\u001b[0m\u001b[0;34m)\u001b[0m \u001b[0;32mfrom\u001b[0m \u001b[0;32mNone\u001b[0m\u001b[0;34m\u001b[0m\u001b[0;34m\u001b[0m\u001b[0m\n\u001b[0m\u001b[1;32m     68\u001b[0m     \u001b[0;32mfinally\u001b[0m\u001b[0;34m:\u001b[0m\u001b[0;34m\u001b[0m\u001b[0;34m\u001b[0m\u001b[0m\n\u001b[1;32m     69\u001b[0m       \u001b[0;32mdel\u001b[0m \u001b[0mfiltered_tb\u001b[0m\u001b[0;34m\u001b[0m\u001b[0;34m\u001b[0m\u001b[0m\n",
            "\u001b[0;32m/usr/local/lib/python3.7/dist-packages/keras/engine/data_adapter.py\u001b[0m in \u001b[0;36m_check_data_cardinality\u001b[0;34m(data)\u001b[0m\n\u001b[1;32m   1653\u001b[0m                            for i in tf.nest.flatten(single_data)))\n\u001b[1;32m   1654\u001b[0m     \u001b[0mmsg\u001b[0m \u001b[0;34m+=\u001b[0m \u001b[0;34m\"Make sure all arrays contain the same number of samples.\"\u001b[0m\u001b[0;34m\u001b[0m\u001b[0;34m\u001b[0m\u001b[0m\n\u001b[0;32m-> 1655\u001b[0;31m     \u001b[0;32mraise\u001b[0m \u001b[0mValueError\u001b[0m\u001b[0;34m(\u001b[0m\u001b[0mmsg\u001b[0m\u001b[0;34m)\u001b[0m\u001b[0;34m\u001b[0m\u001b[0;34m\u001b[0m\u001b[0m\n\u001b[0m\u001b[1;32m   1656\u001b[0m \u001b[0;34m\u001b[0m\u001b[0m\n\u001b[1;32m   1657\u001b[0m \u001b[0;34m\u001b[0m\u001b[0m\n",
            "\u001b[0;31mValueError\u001b[0m: Data cardinality is ambiguous:\n  x sizes: 10000\n  y sizes: 10\nMake sure all arrays contain the same number of samples."
          ]
        }
      ]
    },
    {
      "cell_type": "code",
      "source": [
        "#print(\"\\n Test Accuracy: %.4f\" % (model.evaluate(test_images, test_labels[1])))"
      ],
      "metadata": {
        "colab": {
          "base_uri": "https://localhost:8080/",
          "height": 386
        },
        "id": "ah7eygk9NryC",
        "outputId": "d2f3da04-aa85-430d-c01f-2b38e7f739b2"
      },
      "execution_count": 12,
      "outputs": [
        {
          "output_type": "error",
          "ename": "ValueError",
          "evalue": "ignored",
          "traceback": [
            "\u001b[0;31m---------------------------------------------------------------------------\u001b[0m",
            "\u001b[0;31mValueError\u001b[0m                                Traceback (most recent call last)",
            "\u001b[0;32m<ipython-input-12-7e2ba766a2e4>\u001b[0m in \u001b[0;36m<module>\u001b[0;34m\u001b[0m\n\u001b[0;32m----> 1\u001b[0;31m \u001b[0mprint\u001b[0m\u001b[0;34m(\u001b[0m\u001b[0;34m\"\\n Test Accuracy: %.4f\"\u001b[0m \u001b[0;34m%\u001b[0m \u001b[0;34m(\u001b[0m\u001b[0mmodel\u001b[0m\u001b[0;34m.\u001b[0m\u001b[0mevaluate\u001b[0m\u001b[0;34m(\u001b[0m\u001b[0mtest_images\u001b[0m\u001b[0;34m,\u001b[0m \u001b[0mtest_labels\u001b[0m\u001b[0;34m[\u001b[0m\u001b[0;36m1\u001b[0m\u001b[0;34m]\u001b[0m\u001b[0;34m)\u001b[0m\u001b[0;34m)\u001b[0m\u001b[0;34m)\u001b[0m\u001b[0;34m\u001b[0m\u001b[0;34m\u001b[0m\u001b[0m\n\u001b[0m",
            "\u001b[0;32m/usr/local/lib/python3.7/dist-packages/keras/utils/traceback_utils.py\u001b[0m in \u001b[0;36merror_handler\u001b[0;34m(*args, **kwargs)\u001b[0m\n\u001b[1;32m     65\u001b[0m     \u001b[0;32mexcept\u001b[0m \u001b[0mException\u001b[0m \u001b[0;32mas\u001b[0m \u001b[0me\u001b[0m\u001b[0;34m:\u001b[0m  \u001b[0;31m# pylint: disable=broad-except\u001b[0m\u001b[0;34m\u001b[0m\u001b[0;34m\u001b[0m\u001b[0m\n\u001b[1;32m     66\u001b[0m       \u001b[0mfiltered_tb\u001b[0m \u001b[0;34m=\u001b[0m \u001b[0m_process_traceback_frames\u001b[0m\u001b[0;34m(\u001b[0m\u001b[0me\u001b[0m\u001b[0;34m.\u001b[0m\u001b[0m__traceback__\u001b[0m\u001b[0;34m)\u001b[0m\u001b[0;34m\u001b[0m\u001b[0;34m\u001b[0m\u001b[0m\n\u001b[0;32m---> 67\u001b[0;31m       \u001b[0;32mraise\u001b[0m \u001b[0me\u001b[0m\u001b[0;34m.\u001b[0m\u001b[0mwith_traceback\u001b[0m\u001b[0;34m(\u001b[0m\u001b[0mfiltered_tb\u001b[0m\u001b[0;34m)\u001b[0m \u001b[0;32mfrom\u001b[0m \u001b[0;32mNone\u001b[0m\u001b[0;34m\u001b[0m\u001b[0;34m\u001b[0m\u001b[0m\n\u001b[0m\u001b[1;32m     68\u001b[0m     \u001b[0;32mfinally\u001b[0m\u001b[0;34m:\u001b[0m\u001b[0;34m\u001b[0m\u001b[0;34m\u001b[0m\u001b[0m\n\u001b[1;32m     69\u001b[0m       \u001b[0;32mdel\u001b[0m \u001b[0mfiltered_tb\u001b[0m\u001b[0;34m\u001b[0m\u001b[0;34m\u001b[0m\u001b[0m\n",
            "\u001b[0;32m/usr/local/lib/python3.7/dist-packages/keras/engine/data_adapter.py\u001b[0m in \u001b[0;36m_check_data_cardinality\u001b[0;34m(data)\u001b[0m\n\u001b[1;32m   1653\u001b[0m                            for i in tf.nest.flatten(single_data)))\n\u001b[1;32m   1654\u001b[0m     \u001b[0mmsg\u001b[0m \u001b[0;34m+=\u001b[0m \u001b[0;34m\"Make sure all arrays contain the same number of samples.\"\u001b[0m\u001b[0;34m\u001b[0m\u001b[0;34m\u001b[0m\u001b[0m\n\u001b[0;32m-> 1655\u001b[0;31m     \u001b[0;32mraise\u001b[0m \u001b[0mValueError\u001b[0m\u001b[0;34m(\u001b[0m\u001b[0mmsg\u001b[0m\u001b[0;34m)\u001b[0m\u001b[0;34m\u001b[0m\u001b[0;34m\u001b[0m\u001b[0m\n\u001b[0m\u001b[1;32m   1656\u001b[0m \u001b[0;34m\u001b[0m\u001b[0m\n\u001b[1;32m   1657\u001b[0m \u001b[0;34m\u001b[0m\u001b[0m\n",
            "\u001b[0;31mValueError\u001b[0m: Data cardinality is ambiguous:\n  x sizes: 10000\n  y sizes: 10\nMake sure all arrays contain the same number of samples."
          ]
        }
      ]
    },
    {
      "cell_type": "markdown",
      "source": [
        "#7.1 오차와 정확도 확인(loss / Test Accuracy)\n",
        "---\n",
        "실행 결과를 그래프로 확인해보자. 오차와 정확도를 확인하려 한다. \n"
      ],
      "metadata": {
        "id": "3hRaW7iP_VNb"
      }
    },
    {
      "cell_type": "code",
      "source": [
        "import matplotlib.pyplot as plt\n",
        "import numpy as np\n",
        "\n",
        "fig, (ax1, ax2) = plt.subplots(1, 2, figsize=(12, 5))\n",
        "\n",
        "#=====1. 그래프로 표현(Testset_loss / Trainset_loss)=====오차, 학습셋 오차\n",
        "y_vloss = history.history['val_loss'] #오차\n",
        "y_loss = history.history['loss'] #학습셋 오차\n",
        "\n",
        "x_len = np.arange(len(y_loss)) \n",
        "ax1.plot(x_len, y_vloss, marker='.', c='red', label='Testset_loss')\n",
        "ax1.plot(x_len, y_loss, marker='.', c='blue', label='Trainset_loss')\n",
        "\n",
        "ax1.legend(loc='upper right') #그래프에 그리드를 주고 레이블을 표시\n",
        "ax1.grid()\n",
        "ax1.set(xlabel='epoch', ylabel='loss')\n",
        "\n",
        "#=====2. 그래프로 표현(Testset_accuracy / Trainset_accuracy)=====정확도, 학습셋\n",
        "y_vaccuracy = history.history['val_accuracy'] #정확도\n",
        "y_accuracy = history.history['accuracy'] #학습셋\n",
        "\n",
        "x_len = np.arange(len(y_accuracy)) \n",
        "ax2.plot(x_len, y_vaccuracy, marker='.', c='red', label='Testset_accuracy')\n",
        "ax2.plot(x_len, y_accuracy, marker='.', c='blue', label='Trainset_accuracy')\n",
        "\n",
        "ax2.legend(loc='lower right') #그래프에 그리드를 주고 레이블을 표시\n",
        "ax2.grid()\n",
        "ax2.set(xlabel='epoch', ylabel='accuracy')\n",
        "\n",
        "#=====그리기=====\n",
        "plt.show()"
      ],
      "metadata": {
        "colab": {
          "base_uri": "https://localhost:8080/",
          "height": 334
        },
        "id": "POyJuPBW_Rgr",
        "outputId": "ccb9005f-a884-420f-c15c-d5313328111d"
      },
      "execution_count": 15,
      "outputs": [
        {
          "output_type": "display_data",
          "data": {
            "text/plain": [
              "<Figure size 864x360 with 2 Axes>"
            ],
            "image/png": "[encoded data removed]"
          },
          "metadata": {
            "needs_background": "light"
          }
        }
      ]
    },
    {
      "cell_type": "markdown",
      "source": [
        "#8.1 틀린 데이터 확인...예측값 시각화하기 (Visualize the predictions)\n",
        "---\n",
        "* 8.1 분류를 하는데 어떤 것을 틀렸는지 확인해보자\n",
        "* 8.2 우선 confusion_matrix을 통해 어떻게 분류했는지 확인해보자.\n",
        "* 8.3 이미지를 통해 틀린 것을 확인해 보자.\n"
      ],
      "metadata": {
        "id": "KdWk5gJNC5RN"
      }
    },
    {
      "cell_type": "code",
      "source": [
        "# 8.1 분류를 하는데 어떤 것을 틀렸는지 확인해보자\n",
        "y_pred = model.predict(test_images).round(2)\n",
        "\n",
        "y_val_label = list(map(np.argmax, test_labels))\n",
        "y_pred_label = list(map(np.argmax, y_pred))"
      ],
      "metadata": {
        "colab": {
          "base_uri": "https://localhost:8080/"
        },
        "id": "6HR83HrFDNGM",
        "outputId": "be5b070d-739a-4d84-facf-9de7f40c5c33"
      },
      "execution_count": 16,
      "outputs": [
        {
          "output_type": "stream",
          "name": "stdout",
          "text": [
            "313/313 [==============================] - 7s 23ms/step\n"
          ]
        }
      ]
    },
    {
      "cell_type": "code",
      "source": [
        "# 8.2 우선 confusion_matrix을 통해 어떻게 분류했는지 확인해보자.\n",
        "from sklearn.metrics import confusion_matrix\n",
        "import seaborn as sns\n",
        "\n",
        "plt.figure(figsize=(16, 9) )\n",
        "cm = confusion_matrix(y_val_label, y_pred_label)\n",
        "sns.heatmap(cm, annot=True, fmt='d', xticklabels=fashion_mnist_labels, yticklabels=fashion_mnist_labels)"
      ],
      "metadata": {
        "colab": {
          "base_uri": "https://localhost:8080/",
          "height": 557
        },
        "id": "9ODJzCNnDsLC",
        "outputId": "91b7b73f-2b2e-4d55-f840-3d0395802be9"
      },
      "execution_count": 20,
      "outputs": [
        {
          "output_type": "execute_result",
          "data": {
            "text/plain": [
              "<matplotlib.axes._subplots.AxesSubplot at 0x7fc417788a50>"
            ]
          },
          "metadata": {},
          "execution_count": 20
        },
        {
          "output_type": "display_data",
          "data": {
            "text/plain": [
              "<Figure size 1152x648 with 2 Axes>"
            ],
            "image/png": "[encoded data removed]"
          },
          "metadata": {
            "needs_background": "light"
          }
        }
      ]
    },
    {
      "cell_type": "code",
      "source": [
        "#8.3 이미지를 통해 틀린 것을 확인해 보자.\n",
        "aaa = np.array(y_val_label) != np.array(y_pred_label)\n",
        "not_equel_list = np.where(aaa==True)[0]\n",
        "\n",
        "plt.figure(figsize=(20, 20))\n",
        "j = 1\n",
        "for i in not_equel_list[0:36]:\n",
        "  plt.subplot(6, 6, j);   j+=1\n",
        "  plt.imshow(test_images[i].reshape(28, 28), cmap='Greys')\n",
        "  plt.axis('off')\n",
        "  plt.title('Actual = {} / {} \\n Predicted={} / {}'.format(fashion_mnist_labels[y_val_label[i]],\n",
        "                                                           y_val_label[i],\n",
        "                                                           fashion_mnist_labels[y_pred_label[i]],\n",
        "                                                           y_pred_label[i] ))\n",
        "  \n",
        "#..............위의 사진을 보면 shirt를 pullover로 분류하고\n",
        "#                               ankle boot를 sneaker로 분류한 것도 있는데\n",
        "#                               사실 이 부분은 나도 구분을 못하긴 하겠다~"
      ],
      "metadata": {
        "colab": {
          "base_uri": "https://localhost:8080/",
          "height": 1000
        },
        "id": "hVzFUOkEFPfV",
        "outputId": "ea982efc-bf21-42c0-a58b-51c283aef656"
      },
      "execution_count": 22,
      "outputs": [
        {
          "output_type": "display_data",
          "data": {
            "text/plain": [
              "<Figure size 1440x1440 with 36 Axes>"
            ],
            "image/png": "[encoded data removed]"
          },
          "metadata": {
            "needs_background": "light"
          }
        }
      ]
    },
    {
      "cell_type": "markdown",
      "source": [
        "#9.1 학습시킨 데이터를 csv로 저장하기"
      ],
      "metadata": {
        "id": "_3hIP-7naFF7"
      }
    },
    {
      "cell_type": "code",
      "source": [
        "import pandas as pd\n",
        "\n",
        "results = model.predict(test_images)  \n",
        "results = np.argmax(results, axis=1)\n",
        "results = pd.Series(results, name=\"Label\")"
      ],
      "metadata": {
        "colab": {
          "base_uri": "https://localhost:8080/"
        },
        "id": "jxxf1bMMH9Li",
        "outputId": "cb659481-9bbc-4fe2-812d-43d756a50107"
      },
      "execution_count": 24,
      "outputs": [
        {
          "output_type": "stream",
          "name": "stdout",
          "text": [
            "313/313 [==============================] - 8s 25ms/step\n"
          ]
        }
      ]
    },
    {
      "cell_type": "code",
      "source": [
        "#학습시킨 데이터를 csv로 저장하기\n",
        "\n",
        "submission = pd.concat([ pd.Series(range(1, 28001), name=\"ImageId\"), results ], axis=1)\n",
        "submission.to_csv(\"result_fashion_mnist.csv\", index=False)"
      ],
      "metadata": {
        "id": "ZLHEQKbPINy0"
      },
      "execution_count": 25,
      "outputs": []
    },
    {
      "cell_type": "markdown",
      "source": [
        "\n",
        "#<마치며...>\n",
        "===외부코드와 kb변수명 맞추기~^^===\n",
        "* 외부코드: 'X_train, Y_train, X_val, Y_val'을 쓰기도..\n",
        "* (train_images, train_labels), (test_images, test_labels) = fashion_mnist.load_data()\n",
        "* fashion_mnist_labels"
      ],
      "metadata": {
        "id": "dxW5HAwnI9TJ"
      }
    },
    {
      "cell_type": "markdown",
      "source": [
        "# pj3>=====CNN을 사용한 (다른 모델 설계)Fashion mnist 분류=====\n",
        "---\n",
        "===== \n",
        "https://github.com/KerasKorea/KEKOxTutorial/blob/master/10_Fashion-MNIST%20with%20tf.Keras/10_%EB%94%A5%EB%9F%AC%EB%8B%9D%EC%9D%98%20Hello%20World%2C%20Fashion-MNIST.md\n"
      ],
      "metadata": {
        "id": "idsuj_8kPO3E"
      }
    },
    {
      "cell_type": "markdown",
      "source": [
        "#1.1 데이터셋 불러오기"
      ],
      "metadata": {
        "id": "ke30przPT0jW"
      }
    },
    {
      "cell_type": "code",
      "source": [
        "#1.1 데이터셋 불러오기\n",
        "import tensorflow as tf\n",
        "import numpy as np\n",
        "import matplotlib.pyplot as plt\n",
        "\n",
        "# 미리 섞여진 fashoin-mnist의 학습 데이터와 테스트 데이터 로드\n",
        "# (학습 이미지, 학습 레이블), (테스트 이미지, 테스트 레이블)\n",
        "(x_train, y_train), (x_test, y_test) = tf.keras.datasets.fashion_mnist.load_data()\n",
        "\n",
        "print(\"x_train shape:\", x_train.shape, \"y_train shape:\", y_train.shape)"
      ],
      "metadata": {
        "colab": {
          "base_uri": "https://localhost:8080/"
        },
        "id": "ww2HnaYZSg73",
        "outputId": "8e0cb62c-b94a-4dce-86c7-56cefbc375f4"
      },
      "execution_count": 27,
      "outputs": [
        {
          "output_type": "stream",
          "name": "stdout",
          "text": [
            "x_train shape: (60000, 28, 28) y_train shape: (60000,)\n"
          ]
        }
      ]
    },
    {
      "cell_type": "markdown",
      "source": [
        "#2.1 데이터 시각화"
      ],
      "metadata": {
        "id": "y2xmxpi1T2vy"
      }
    },
    {
      "cell_type": "code",
      "source": [
        "#2.1 데이터 시각화\n",
        "# 학습 셋 크기(shape) - 이미지 크기가 28x28 인 60,000 개의 학습 이미지 데이터, 60,000 개의 레이블\n",
        "print(\"x_train shape:\", x_train.shape, \"y_train shape:\", y_train.shape)\n",
        "\n",
        "# 학습 셋과 테스트 셋의 데이터 개수\n",
        "print(x_train.shape[0], 'train set')\n",
        "print(x_test.shape[0], 'test set')\n",
        "\n",
        "# 레이블 정의\n",
        "fashion_mnist_labels = [\"T-shirt/top\",  # 인덱스 0\n",
        "                        \"Trouser\",      # 인덱스 1\n",
        "                        \"Pullover\",     # 인덱스 2\n",
        "                        \"Dress\",        # 인덱스 3\n",
        "                        \"Coat\",         # 인덱스 4\n",
        "                        \"Sandal\",       # 인덱스 5\n",
        "                        \"Shirt\",        # 인덱스 6\n",
        "                        \"Sneaker\",      # 인덱스 7\n",
        "                        \"Bag\",          # 인덱스 8\n",
        "                        \"Ankle boot\"]   # 인덱스 9\n",
        "\n",
        "# 이미지 인덱스, 0에서 59,999 사이의 숫자를 선택할 수 있습니다.\n",
        "img_index = 5\n",
        "\n",
        "# y_train 은 에서 9까지의 레이블 포함합니다.\n",
        "label_index = y_train[img_index]\n",
        "\n",
        "# 레이블 출력해 봅니다. 예를들어 2 Pullover\n",
        "print (\"y = \" + str(label_index) + \" \" +(fashion_mnist_labels[label_index]))\n",
        "\n",
        "# 학습 데이터 중에서 이미지 한 장을 보여줍니다.\n",
        "plt.imshow(x_train[img_index])"
      ],
      "metadata": {
        "colab": {
          "base_uri": "https://localhost:8080/",
          "height": 358
        },
        "id": "w-RaHIpfSoVz",
        "outputId": "d9fe9bfb-a7e8-4899-eaf6-fd0e959b232d"
      },
      "execution_count": 28,
      "outputs": [
        {
          "output_type": "stream",
          "name": "stdout",
          "text": [
            "x_train shape: (60000, 28, 28) y_train shape: (60000,)\n",
            "60000 train set\n",
            "10000 test set\n",
            "y = 2 Pullover\n"
          ]
        },
        {
          "output_type": "execute_result",
          "data": {
            "text/plain": [
              "<matplotlib.image.AxesImage at 0x7fc41626cf90>"
            ]
          },
          "metadata": {},
          "execution_count": 28
        },
        {
          "output_type": "display_data",
          "data": {
            "text/plain": [
              "<Figure size 432x288 with 1 Axes>"
            ],
            "image/png": "[encoded data removed]"
          },
          "metadata": {
            "needs_background": "light"
          }
        }
      ]
    },
    {
      "cell_type": "markdown",
      "source": [
        "#3.1 데이터 정규화"
      ],
      "metadata": {
        "id": "hnpv86veT4Uk"
      }
    },
    {
      "cell_type": "code",
      "source": [
        "#3.1 데이터 정규화\n",
        "x_train = x_train.astype('float32') / 255\n",
        "x_test = x_test.astype('float32') / 255"
      ],
      "metadata": {
        "id": "vEakcNM6SyzO"
      },
      "execution_count": 29,
      "outputs": []
    },
    {
      "cell_type": "markdown",
      "source": [
        "#4.1 데이터를 학습/검증/테스트 셋으로 나누기(Split the data into train/validation/test datasets)\n",
        "---\n",
        ">데이터를 임포팅하는 과정에서, 60,000개의 학습 셋과 10,000개의 테스트셋을 얻을 수 있습니다. 이제 학습 셋을 학습 셋/검증 셋으로 나누고자 합니다. 딥러닝에서 각 유형의 데이터셋이 사용되는 방법은 다음과 같습니다.\n",
        "...(현재코드에서 검증은 제외하겠습니다~)\n",
        "\n",
        "* Training data(학습 데이터) - 모델을 학습에 사용하는 데이터\n",
        "* Validation data(검증 데이터) - 하이퍼파라미터를 튜닝하고 모델을 검증하기 위해 사용하는 데이터\n",
        "* Test data(테스트 데이터) - 검증 셋으로 모델의 초기 검사를 마친 후에, 모델을 테스트하는 데이터"
      ],
      "metadata": {
        "id": "8Jtc3E8GPa-r"
      }
    },
    {
      "cell_type": "code",
      "source": [
        "#4.1 학습 데이터 셋을 학습 / 평가 셋으로 나눈다. (# 학습 셋: 55,000, 검증 셋: 5000)\n",
        "(x_train, x_valid) = x_train[5000:], x_train[:5000]\n",
        "(y_train, y_valid) = y_train[5000:], y_train[:5000]\n",
        "\n",
        "# 입력 이미지의 크기를 (28, 28) 에서 (28, 28, 1) 로 배열 차원을 변경(reshape)\n",
        "w, h = 28, 28\n",
        "x_train = x_train.reshape(x_train.shape[0], w, h, 1)\n",
        "x_valid = x_valid.reshape(x_valid.shape[0], w, h, 1)\n",
        "x_test = x_test.reshape(x_test.shape[0], w, h, 1)\n",
        "\n",
        "# 레이블에 원-핫 인코딩 적용\n",
        "# 원-핫 벡터는 단 하나의 차원에서만 1이고, 나머지 차원에서는 0인 벡터입니다.\n",
        "y_train = tf.keras.utils.to_categorical(y_train, 10)\n",
        "y_valid = tf.keras.utils.to_categorical(y_valid, 10)\n",
        "y_test = tf.keras.utils.to_categorical(y_test, 10)\n",
        "\n",
        "# 학습 셋 크기\n",
        "print(\"x_train shape:\", x_train.shape, \"y_train shape:\", y_train.shape)\n",
        "\n",
        "# 학습용, 검증용, 테스트용 데이터셋의 개수\n",
        "print(x_train.shape[0], 'train set')\n",
        "print(x_valid.shape[0], 'validation set')\n",
        "print(x_test.shape[0], 'test set')"
      ],
      "metadata": {
        "colab": {
          "base_uri": "https://localhost:8080/"
        },
        "id": "Z7zzWl7KPJIk",
        "outputId": "a438c261-156b-4deb-b4fd-43790cbad2f9"
      },
      "execution_count": 30,
      "outputs": [
        {
          "output_type": "stream",
          "name": "stdout",
          "text": [
            "x_train shape: (55000, 28, 28, 1) y_train shape: (55000, 10)\n",
            "55000 train set\n",
            "5000 validation set\n",
            "10000 test set\n"
          ]
        }
      ]
    },
    {
      "cell_type": "markdown",
      "source": [
        "#5.1 모델 아키텍처 만들기"
      ],
      "metadata": {
        "id": "jSmzvo2rPrBm"
      }
    },
    {
      "cell_type": "code",
      "source": [
        "#5.1 모델 아키텍처 만들기\n",
        "model = tf.keras.Sequential()\n",
        "\n",
        "#신경망의 첫번째 레이어에서 입력 데이터 크기를 정의해야 함.\n",
        "model.add(tf.keras.layers.Conv2D(filters=64, kernel_size=2, padding='same', activation='relu', input_shape=(28, 28, 1)))\n",
        "model.add(tf.keras.layers.MaxPooling2D(pool_size=2))\n",
        "model.add(tf.keras.layers.Dropout(0.3))\n",
        "\n",
        "model.add(tf.keras.layers.MaxPooling2D(pool_size=2))\n",
        "model.add(tf.keras.layers.Dropout(0.3))\n",
        "\n",
        "model.add(tf.keras.layers.Flatten()) #flatten()은 이미지를 일차원으로 바꿔줌.\n",
        "model.add(tf.keras.layers.Dense(256, activation='relu')) \n",
        "model.add(tf.keras.layers.Dropout(0.5))\n",
        "model.add(tf.keras.layers.Dense(10, activation='softmax')) \n",
        "\n",
        "#model.summary()를 통해 모델을 살펴보기.\n",
        "model.summary()"
      ],
      "metadata": {
        "colab": {
          "base_uri": "https://localhost:8080/"
        },
        "id": "tXTRhCbBPmUV",
        "outputId": "909069c0-33a6-4aa2-d94a-48767e83d9a1"
      },
      "execution_count": 31,
      "outputs": [
        {
          "output_type": "stream",
          "name": "stdout",
          "text": [
            "Model: \"sequential_2\"\n",
            "_________________________________________________________________\n",
            " Layer (type)                Output Shape              Param #   \n",
            "=================================================================\n",
            " conv2d_3 (Conv2D)           (None, 28, 28, 64)        320       \n",
            "                                                                 \n",
            " max_pooling2d_3 (MaxPooling  (None, 14, 14, 64)       0         \n",
            " 2D)                                                             \n",
            "                                                                 \n",
            " dropout_5 (Dropout)         (None, 14, 14, 64)        0         \n",
            "                                                                 \n",
            " max_pooling2d_4 (MaxPooling  (None, 7, 7, 64)         0         \n",
            " 2D)                                                             \n",
            "                                                                 \n",
            " dropout_6 (Dropout)         (None, 7, 7, 64)          0         \n",
            "                                                                 \n",
            " flatten_2 (Flatten)         (None, 3136)              0         \n",
            "                                                                 \n",
            " dense_4 (Dense)             (None, 256)               803072    \n",
            "                                                                 \n",
            " dropout_7 (Dropout)         (None, 256)               0         \n",
            "                                                                 \n",
            " dense_5 (Dense)             (None, 10)                2570      \n",
            "                                                                 \n",
            "=================================================================\n",
            "Total params: 805,962\n",
            "Trainable params: 805,962\n",
            "Non-trainable params: 0\n",
            "_________________________________________________________________\n"
          ]
        }
      ]
    },
    {
      "cell_type": "markdown",
      "source": [
        "#5.2 모델 컴파일하기"
      ],
      "metadata": {
        "id": "8AwvFFeXT-ju"
      }
    },
    {
      "cell_type": "code",
      "source": [
        "#5.2 모델 컴파일하기\n",
        "model.compile(loss='categorical_crossentropy',\n",
        "             optimizer='adam',\n",
        "             metrics=['accuracy'])"
      ],
      "metadata": {
        "id": "JRRs1Q1sTIw-"
      },
      "execution_count": 33,
      "outputs": []
    },
    {
      "cell_type": "markdown",
      "source": [
        "#6.1 모델 학습시키기"
      ],
      "metadata": {
        "id": "AiYldpdBUBTz"
      }
    },
    {
      "cell_type": "code",
      "source": [
        "#6.1 모델 학습시키기\n",
        "from keras.callbacks import ModelCheckpoint\n",
        "\n",
        "checkpointer = ModelCheckpoint(filepath='model.weights.best.hdf5', verbose = 1, save_best_only=True)\n",
        "model.fit(x_train,\n",
        "         y_train,\n",
        "         batch_size=64,\n",
        "         epochs=10,\n",
        "         validation_data=(x_valid, y_valid),\n",
        "         callbacks=[checkpointer])"
      ],
      "metadata": {
        "colab": {
          "base_uri": "https://localhost:8080/"
        },
        "id": "E2lZlrHeTM4-",
        "outputId": "5464b4b1-3a05-4b5f-909c-261876c2233f"
      },
      "execution_count": 34,
      "outputs": [
        {
          "output_type": "stream",
          "name": "stdout",
          "text": [
            "Epoch 1/10\n",
            "859/860 [============================>.] - ETA: 0s - loss: 0.5617 - accuracy: 0.7945\n",
            "Epoch 1: val_loss improved from inf to 0.41655, saving model to model.weights.best.hdf5\n",
            "860/860 [==============================] - 66s 76ms/step - loss: 0.5616 - accuracy: 0.7945 - val_loss: 0.4165 - val_accuracy: 0.8538\n",
            "Epoch 2/10\n",
            "859/860 [============================>.] - ETA: 0s - loss: 0.4013 - accuracy: 0.8532\n",
            "Epoch 2: val_loss improved from 0.41655 to 0.34236, saving model to model.weights.best.hdf5\n",
            "860/860 [==============================] - 73s 85ms/step - loss: 0.4013 - accuracy: 0.8532 - val_loss: 0.3424 - val_accuracy: 0.8848\n",
            "Epoch 3/10\n",
            "859/860 [============================>.] - ETA: 0s - loss: 0.3671 - accuracy: 0.8661\n",
            "Epoch 3: val_loss improved from 0.34236 to 0.31451, saving model to model.weights.best.hdf5\n",
            "860/860 [==============================] - 71s 83ms/step - loss: 0.3673 - accuracy: 0.8661 - val_loss: 0.3145 - val_accuracy: 0.8908\n",
            "Epoch 4/10\n",
            "859/860 [============================>.] - ETA: 0s - loss: 0.3465 - accuracy: 0.8735\n",
            "Epoch 4: val_loss improved from 0.31451 to 0.29797, saving model to model.weights.best.hdf5\n",
            "860/860 [==============================] - 69s 80ms/step - loss: 0.3464 - accuracy: 0.8735 - val_loss: 0.2980 - val_accuracy: 0.8974\n",
            "Epoch 5/10\n",
            "859/860 [============================>.] - ETA: 0s - loss: 0.3315 - accuracy: 0.8781\n",
            "Epoch 5: val_loss improved from 0.29797 to 0.29545, saving model to model.weights.best.hdf5\n",
            "860/860 [==============================] - 65s 75ms/step - loss: 0.3316 - accuracy: 0.8781 - val_loss: 0.2954 - val_accuracy: 0.8948\n",
            "Epoch 6/10\n",
            "860/860 [==============================] - ETA: 0s - loss: 0.3186 - accuracy: 0.8843\n",
            "Epoch 6: val_loss improved from 0.29545 to 0.28176, saving model to model.weights.best.hdf5\n",
            "860/860 [==============================] - 60s 70ms/step - loss: 0.3186 - accuracy: 0.8843 - val_loss: 0.2818 - val_accuracy: 0.9018\n",
            "Epoch 7/10\n",
            "859/860 [============================>.] - ETA: 0s - loss: 0.3103 - accuracy: 0.8854\n",
            "Epoch 7: val_loss improved from 0.28176 to 0.27294, saving model to model.weights.best.hdf5\n",
            "860/860 [==============================] - 60s 70ms/step - loss: 0.3103 - accuracy: 0.8854 - val_loss: 0.2729 - val_accuracy: 0.9026\n",
            "Epoch 8/10\n",
            "859/860 [============================>.] - ETA: 0s - loss: 0.3022 - accuracy: 0.8882\n",
            "Epoch 8: val_loss improved from 0.27294 to 0.26456, saving model to model.weights.best.hdf5\n",
            "860/860 [==============================] - 60s 70ms/step - loss: 0.3022 - accuracy: 0.8882 - val_loss: 0.2646 - val_accuracy: 0.9046\n",
            "Epoch 9/10\n",
            "859/860 [============================>.] - ETA: 0s - loss: 0.2960 - accuracy: 0.8909\n",
            "Epoch 9: val_loss improved from 0.26456 to 0.25742, saving model to model.weights.best.hdf5\n",
            "860/860 [==============================] - 59s 69ms/step - loss: 0.2960 - accuracy: 0.8908 - val_loss: 0.2574 - val_accuracy: 0.9070\n",
            "Epoch 10/10\n",
            "859/860 [============================>.] - ETA: 0s - loss: 0.2889 - accuracy: 0.8933\n",
            "Epoch 10: val_loss improved from 0.25742 to 0.25498, saving model to model.weights.best.hdf5\n",
            "860/860 [==============================] - 60s 70ms/step - loss: 0.2890 - accuracy: 0.8932 - val_loss: 0.2550 - val_accuracy: 0.9076\n"
          ]
        },
        {
          "output_type": "execute_result",
          "data": {
            "text/plain": [
              "<keras.callbacks.History at 0x7fc418dbfb90>"
            ]
          },
          "metadata": {},
          "execution_count": 34
        }
      ]
    },
    {
      "cell_type": "markdown",
      "source": [
        "#7.1 가장 높은 검증 정확도의 가중치 불러오기(Load Model with the best validation accuracy)"
      ],
      "metadata": {
        "id": "PLdvK12BUC7g"
      }
    },
    {
      "cell_type": "code",
      "source": [
        "#7.1 가장 높은 검증 정확도의 가중치 불러오기(Load Model with the best validation accuracy)\n",
        "model.load_weights('model.weights.best.hdf5')"
      ],
      "metadata": {
        "id": "L6QTtyceTTSJ"
      },
      "execution_count": 35,
      "outputs": []
    },
    {
      "cell_type": "markdown",
      "source": [
        "#8.1 테스트 정확도(Test Accuracy)\n",
        "---\n",
        "90%의 정확도!\n"
      ],
      "metadata": {
        "id": "DqEkO0tpUEbo"
      }
    },
    {
      "cell_type": "code",
      "source": [
        "#8.1 테스트 정확도(Test Accuracy)\n",
        "\n",
        "# 테스트 셋으로 모델 평가\n",
        "score = model.evaluate(x_test, y_test, verbose=0)\n",
        "\n",
        "# 테스트 정확도\n",
        "print('\\n', 'Test accuracy:', score[1])"
      ],
      "metadata": {
        "colab": {
          "base_uri": "https://localhost:8080/"
        },
        "id": "vNFKYnRTTh5_",
        "outputId": "5e0d5721-7e81-499a-9afc-cd298c3f0e94"
      },
      "execution_count": 36,
      "outputs": [
        {
          "output_type": "stream",
          "name": "stdout",
          "text": [
            "\n",
            " Test accuracy: 0.9018999934196472\n"
          ]
        }
      ]
    },
    {
      "cell_type": "markdown",
      "source": [
        "#9.1 틀린 데이터 확인...예측값 시각화하기 (Visualize the predictions)"
      ],
      "metadata": {
        "id": "Tr2u1QbEUGF6"
      }
    },
    {
      "cell_type": "code",
      "source": [
        "#9.1 예측값 시각화하기 (Visualize the predictions)\n",
        "\n",
        "# y_hat은 test 데이터셋 예측\n",
        "y_hat = model.predict(x_test)\n",
        "\n",
        "# 무작위 샘플로 10 개의 테스트 이미지와 예측 레이블 및 실제 레이블을 그려줍니다.\n",
        "figure = plt.figure(figsize=(20, 8))\n",
        "for i, index in enumerate(np.random.choice(x_test.shape[0], size=15, replace=False)):\n",
        "    ax = figure.add_subplot(3, 5, i + 1, xticks=[], yticks=[])\n",
        "    ax.imshow(np.squeeze(x_test[index])) # 각각의 이미지를 보여줌\n",
        "    predict_index = np.argmax(y_hat[index])\n",
        "    true_index = np.argmax(y_test[index]) # 각각의 이미지에 예측레이블 (실제레이블) 표시\n",
        "    ax.set_title(\"{} ({})\".format(fashion_mnist_labels[predict_index],\n",
        "                                  fashion_mnist_labels[true_index]),\n",
        "                                  color=(\"green\" if predict_index == true_index else \"red\"))"
      ],
      "metadata": {
        "colab": {
          "base_uri": "https://localhost:8080/",
          "height": 504
        },
        "id": "ZZoskmW-Tqi7",
        "outputId": "d70991c8-dc2d-41ba-dfab-53dd4dc597eb"
      },
      "execution_count": 37,
      "outputs": [
        {
          "output_type": "stream",
          "name": "stdout",
          "text": [
            "313/313 [==============================] - 3s 9ms/step\n"
          ]
        },
        {
          "output_type": "display_data",
          "data": {
            "text/plain": [
              "<Figure size 1440x576 with 15 Axes>"
            ],
            "image/png": "[encoded data removed]"
          },
          "metadata": {}
        }
      ]
    },
    {
      "cell_type": "markdown",
      "source": [],
      "metadata": {
        "id": "MSJEd81YQDVK"
      }
    }
  ]
}