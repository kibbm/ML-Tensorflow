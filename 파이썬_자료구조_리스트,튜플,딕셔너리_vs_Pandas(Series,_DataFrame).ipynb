{
  "nbformat": 4,
  "nbformat_minor": 0,
  "metadata": {
    "colab": {
      "provenance": [],
      "collapsed_sections": [],
      "toc_visible": true,
      "authorship_tag": "ABX9TyP9dulBYCqSvRFusqfNurv6",
      "include_colab_link": true
    },
    "kernelspec": {
      "name": "python3",
      "display_name": "Python 3"
    },
    "language_info": {
      "name": "python"
    }
  },
  "cells": [
    {
      "cell_type": "markdown",
      "metadata": {
        "id": "view-in-github",
        "colab_type": "text"
      },
      "source": [
        "<a href=\"https://colab.research.google.com/github/kibbm/ML-Tensorflow/blob/master/%ED%8C%8C%EC%9D%B4%EC%8D%AC_%EC%9E%90%EB%A3%8C%EA%B5%AC%EC%A1%B0_%EB%A6%AC%EC%8A%A4%ED%8A%B8%2C%ED%8A%9C%ED%94%8C%2C%EB%94%95%EC%85%94%EB%84%88%EB%A6%AC_vs_Pandas(Series%2C_DataFrame).ipynb\" target=\"_parent\"><img src=\"https://colab.research.google.com/assets/colab-badge.svg\" alt=\"Open In Colab\"/></a>"
      ]
    },
    {
      "cell_type": "markdown",
      "source": [
        "##**[파이썬 기본 자료구조]**..1차원 구조\n",
        "*   **리스트** [].......index통해 값을 접근. / 반복문\n",
        "*   **튜플** ()  .................... /수정불가. 속도 빠름.\n",
        "*   **딕셔너리** {'': }..key가지고 아주 빠르게 값을 찾을 수 있음\n",
        "---\n",
        "##[Pandas]\n",
        "*   **Series** : 1차원 자료구조\n",
        "\n",
        "> * Series객체는 일차원 배열과 달리 값뿐만 아니라 각 값에 연결된 인덱스 값도 동시에 저장함.\n",
        "* Series객체는 리스트와 달리 인덱싱 값을 지정할 수 있음.\n",
        "* 파이썬의 딕셔너리와 유사하게 값과 이에 대응되는 인덱스 값이 서로 연결돼 있음.\n",
        "* 인덱싱이 서로 다른 경우에도 알아서 인덱싱이 같은 값끼리 덧셈 연산을 수행함.\n",
        "\n",
        "\n",
        "*   **DataFrame**: 2차원 자료구조\n",
        "\n",
        "\n",
        "> * DataFrame을 인덱스가 같은 여러개의 Series 객체로 구성된 자료구조로 생각해도 좋습니다.\n",
        "* 1) 데이터 프레임 생성\n",
        ">> * DataFrame 객체에서 칼럼의 순서는 DataFrame객체를 생성할 때 *columns*라는 키워드를 지정할 수 있음.daeshin_day = DataFrame(daeshin, columns=['open', 'high', 'low', 'close'])\n",
        ">> * DataFrame에서 인덱스 지정가능. 생성 시점에 index를 통해 지정. daeshin_day = DataFrame(daeshin, columns=['open', 'high', 'low', 'close'], index=date)\n",
        "\n",
        "> * 2) 데이터프레임 칼럼, 로우 선택\n",
        ">> * DataFrame 객체의 칼럼에 접근하려면 칼럼 이름을 지정하면 되고, 로우에 접근하려면 loc 메서드를 통해 인덱스 값을 지정 close = daeshin_day['close'] // day_data = daeshin_day.loc['2016.02.17']"
      ],
      "metadata": {
        "id": "zcFnqhQ4jP2M"
      }
    },
    {
      "cell_type": "markdown",
      "source": [
        "*[pandas]-1. Series*"
      ],
      "metadata": {
        "id": "71Aem6c1pFka"
      }
    },
    {
      "cell_type": "code",
      "source": [
        "import pandas\n",
        "print(pandas.Series)"
      ],
      "metadata": {
        "colab": {
          "base_uri": "https://localhost:8080/"
        },
        "id": "kS6Uj0p_gxZ3",
        "outputId": "8be36009-f84e-4655-9b02-d7611fbf96cd"
      },
      "execution_count": null,
      "outputs": [
        {
          "output_type": "stream",
          "name": "stdout",
          "text": [
            "<class 'pandas.core.series.Series'>\n"
          ]
        }
      ]
    },
    {
      "cell_type": "code",
      "source": [
        "#1. 파이썬 리스트를 넘겨주면 해당 값에 포함하는 Series객체를 생성함.\n",
        "from pandas import Series, DataFrame\n",
        "\n",
        "kakao = Series([92600, 92400, 92100, 94300, 92300])\n",
        "print(kakao)\n",
        "#Series객체를 생성할 때 따로 인덱스를 지정하지 않았다면 기본적으로 0부터 시작하는 정수값으로 인덱싱 됨.\n",
        "#Series객체는 일차원 배열과 달리 값뿐만 아니라 각 값에 연결된 인덱스 값도 동시에 저장함."
      ],
      "metadata": {
        "colab": {
          "base_uri": "https://localhost:8080/"
        },
        "id": "VSf8oAlVksO8",
        "outputId": "a78354fd-8cf8-4416-e2db-d63f6e16333d"
      },
      "execution_count": null,
      "outputs": [
        {
          "output_type": "stream",
          "name": "stdout",
          "text": [
            "0    92600\n",
            "1    92400\n",
            "2    92100\n",
            "3    94300\n",
            "4    92300\n",
            "dtype: int64\n"
          ]
        }
      ]
    },
    {
      "cell_type": "code",
      "source": [
        "#따라서 다음과 같이 인덱스 값을 통해 데이터에 접근할 수 있음.\n",
        "print( kakao[0] )\n",
        "print( kakao[1] )"
      ],
      "metadata": {
        "colab": {
          "base_uri": "https://localhost:8080/"
        },
        "id": "fNuud3DrlnIV",
        "outputId": "2023af5c-308f-4b0d-9f1d-9266f29f54ee"
      },
      "execution_count": null,
      "outputs": [
        {
          "output_type": "stream",
          "name": "stdout",
          "text": [
            "92600\n",
            "92400\n"
          ]
        }
      ]
    },
    {
      "cell_type": "code",
      "source": [
        "#2. Series객체는 리스트와 달리 인덱싱 값을 지정할 수 있음.\n",
        "kakao2 = Series([92600, 92400, 92100, 94300, 92300], index=['2016-02-19', \n",
        "                                                            '2016-02-18',\n",
        "                                                            '2016-02-17',\n",
        "                                                            '2016-02-16',\n",
        "                                                            '2016-02-15'])\n",
        "print(kakao2)\n"
      ],
      "metadata": {
        "colab": {
          "base_uri": "https://localhost:8080/"
        },
        "id": "XIkMU16vmm6r",
        "outputId": "644ff091-c44f-45e9-d269-bd1e20a28126"
      },
      "execution_count": null,
      "outputs": [
        {
          "output_type": "stream",
          "name": "stdout",
          "text": [
            "2016-02-19    92600\n",
            "2016-02-18    92400\n",
            "2016-02-17    92100\n",
            "2016-02-16    94300\n",
            "2016-02-15    92300\n",
            "dtype: int64\n"
          ]
        }
      ]
    },
    {
      "cell_type": "code",
      "source": [
        "print(kakao2['2016-02-19'])\n",
        "print(kakao2['2016-02-18'])"
      ],
      "metadata": {
        "colab": {
          "base_uri": "https://localhost:8080/"
        },
        "id": "lwmVoAZpnWBy",
        "outputId": "58c1cc80-448a-4377-8120-724cc30e29ee"
      },
      "execution_count": null,
      "outputs": [
        {
          "output_type": "stream",
          "name": "stdout",
          "text": [
            "92600\n",
            "92400\n"
          ]
        }
      ]
    },
    {
      "cell_type": "code",
      "source": [
        "#3. 파이썬의 딕셔너리와 유사하게 값과 이에 대응되는 인덱스 값이 서로 연결돼 있음.\n",
        "for date in kakao2.index:\n",
        "  print(date)\n",
        "\n",
        "for ending_price in kakao2.values:\n",
        "  print(ending_price)  \n"
      ],
      "metadata": {
        "colab": {
          "base_uri": "https://localhost:8080/"
        },
        "id": "-XDr1CmVmp_R",
        "outputId": "5170eb0a-cec2-4650-f2cc-c4385bb07675"
      },
      "execution_count": null,
      "outputs": [
        {
          "output_type": "stream",
          "name": "stdout",
          "text": [
            "2016-02-19\n",
            "2016-02-18\n",
            "2016-02-17\n",
            "2016-02-16\n",
            "2016-02-15\n",
            "92600\n",
            "92400\n",
            "92100\n",
            "94300\n",
            "92300\n"
          ]
        }
      ]
    },
    {
      "cell_type": "code",
      "source": [
        "#4. 인덱싱이 서로 다른 경우에도 알아서 인덱싱이 같은 값끼리 덧셈 연산을 수행함.\n",
        "from pandas import Series, DataFrame\n",
        "\n",
        "mine = Series([10, 20, 30], index=['naver', 'sk', 'kt'])\n",
        "friend = Series([10, 30, 20], index=['kt', 'naver', 'sk'])\n",
        "\n",
        "merge = mine + friend\n",
        "print(merge)"
      ],
      "metadata": {
        "colab": {
          "base_uri": "https://localhost:8080/"
        },
        "id": "6xvHe0B1n9Ks",
        "outputId": "73bef154-72ef-4d91-f7b8-2c5ca02911dc"
      },
      "execution_count": null,
      "outputs": [
        {
          "output_type": "stream",
          "name": "stdout",
          "text": [
            "kt       40\n",
            "naver    40\n",
            "sk       40\n",
            "dtype: int64\n"
          ]
        }
      ]
    },
    {
      "cell_type": "markdown",
      "source": [
        "[pandas]-2. DataFrame"
      ],
      "metadata": {
        "id": "KJsg58kDpMYy"
      }
    },
    {
      "cell_type": "code",
      "source": [
        "#1) 데이터프레임 생성\n",
        "from pandas import Series, DataFrame\n",
        "\n",
        "raw_data = {'col0':[1, 2, 3, 4],\n",
        "            'col1':[10, 20, 30, 40],\n",
        "            'col2':[100, 200, 300, 400] }\n",
        "\n",
        "data = DataFrame(raw_data)            \n",
        "print(data)"
      ],
      "metadata": {
        "colab": {
          "base_uri": "https://localhost:8080/"
        },
        "id": "Ew9_KcbMpPLK",
        "outputId": "3ede3705-5a3c-4f67-fcd5-8e427c6da564"
      },
      "execution_count": null,
      "outputs": [
        {
          "output_type": "stream",
          "name": "stdout",
          "text": [
            "   col0  col1  col2\n",
            "0     1    10   100\n",
            "1     2    20   200\n",
            "2     3    30   300\n",
            "3     4    40   400\n"
          ]
        }
      ]
    },
    {
      "cell_type": "code",
      "source": [
        "#1. DataFrame 객체의 각 컬럼에 접근\n",
        "data['col2']"
      ],
      "metadata": {
        "colab": {
          "base_uri": "https://localhost:8080/"
        },
        "id": "-a6tX01wrVMR",
        "outputId": "2fb05b12-573f-4e9e-9829-5ce61f860442"
      },
      "execution_count": null,
      "outputs": [
        {
          "output_type": "execute_result",
          "data": {
            "text/plain": [
              "0    100\n",
              "1    200\n",
              "2    300\n",
              "3    400\n",
              "Name: col2, dtype: int64"
            ]
          },
          "metadata": {},
          "execution_count": 18
        }
      ]
    },
    {
      "cell_type": "code",
      "source": [
        "#2. DataFrame 각 컬럼의 타입\n",
        "type(data['col2'])  #Series\n",
        "\n",
        "#DataFrame을 인덱스가 같은 여러개의 Series 객체로 구성된 자료구조로 생각해도 좋습니다."
      ],
      "metadata": {
        "colab": {
          "base_uri": "https://localhost:8080/"
        },
        "id": "G6HpOvr5rmxJ",
        "outputId": "28ff299a-4e8c-42cb-9d95-99b4891b84d4"
      },
      "execution_count": null,
      "outputs": [
        {
          "output_type": "execute_result",
          "data": {
            "text/plain": [
              "pandas.core.series.Series"
            ]
          },
          "metadata": {},
          "execution_count": 19
        }
      ]
    },
    {
      "cell_type": "code",
      "source": [
        "from pandas import Series, DataFrame\n",
        "\n",
        "daeshin = {'open': [11650, 11100, 11200, 11000, 11000],\n",
        "           'high':[12100, 11800, 11200, 11100, 11150],\n",
        "           'low' : [11600, 11050, 10900, 10950, 10900],\n",
        "           'close':[11900, 11600, 11000, 11100, 11050] }\n",
        "\n",
        "daeshin_day = DataFrame(daeshin)           \n",
        "print(daeshin_day)"
      ],
      "metadata": {
        "colab": {
          "base_uri": "https://localhost:8080/"
        },
        "id": "zl_z91CjsKm-",
        "outputId": "8f5be08c-f9a9-4274-dbf4-d4ec7c8fbc89"
      },
      "execution_count": null,
      "outputs": [
        {
          "output_type": "stream",
          "name": "stdout",
          "text": [
            "    open   high    low  close\n",
            "0  11650  12100  11600  11900\n",
            "1  11100  11800  11050  11600\n",
            "2  11200  11200  10900  11000\n",
            "3  11000  11100  10950  11100\n",
            "4  11000  11150  10900  11050\n"
          ]
        }
      ]
    },
    {
      "cell_type": "code",
      "source": [
        "# DataFrame 객체에서 칼럼의 순서는 DataFrame객체를 생성할 때 columns라는 키워드를 지정할 수 있음.\n",
        "daeshin_day = DataFrame(daeshin, columns=['open', 'high', 'low', 'close'])\n",
        "print(daeshin_day)"
      ],
      "metadata": {
        "colab": {
          "base_uri": "https://localhost:8080/"
        },
        "id": "9P3PnR-RtKbs",
        "outputId": "a0b57340-1a19-4b04-93e1-821b14c87d7e"
      },
      "execution_count": null,
      "outputs": [
        {
          "output_type": "stream",
          "name": "stdout",
          "text": [
            "    open   high    low  close\n",
            "0  11650  12100  11600  11900\n",
            "1  11100  11800  11050  11600\n",
            "2  11200  11200  10900  11000\n",
            "3  11000  11100  10950  11100\n",
            "4  11000  11150  10900  11050\n"
          ]
        }
      ]
    },
    {
      "cell_type": "code",
      "source": [
        "#DataFrame에서 인덱스 지정가능. 생성 시점에 index를 통해 지정.\n",
        "date=['2016.02.19', '2016.02.17', '2016.02.16', '2016.02.15', '2016.02.14']\n",
        "daeshin_day = DataFrame(daeshin, columns=['open', 'high', 'low', 'close'], index=date)\n",
        "print(daeshin_day)"
      ],
      "metadata": {
        "colab": {
          "base_uri": "https://localhost:8080/"
        },
        "id": "WSiPClu5thOO",
        "outputId": "177886c4-e632-4ccb-c5e2-6b4081919349"
      },
      "execution_count": null,
      "outputs": [
        {
          "output_type": "stream",
          "name": "stdout",
          "text": [
            "             open   high    low  close\n",
            "2016.02.19  11650  12100  11600  11900\n",
            "2016.02.17  11100  11800  11050  11600\n",
            "2016.02.16  11200  11200  10900  11000\n",
            "2016.02.15  11000  11100  10950  11100\n",
            "2016.02.14  11000  11150  10900  11050\n"
          ]
        }
      ]
    },
    {
      "cell_type": "code",
      "source": [
        "#2) 데이터프레임 칼럼, 로우 선택\n",
        "close = daeshin_day['close']\n",
        "print(close)"
      ],
      "metadata": {
        "colab": {
          "base_uri": "https://localhost:8080/"
        },
        "id": "BJ-V3RQ7vTMY",
        "outputId": "b34cea82-c435-4993-c4d2-277f5af2bf79"
      },
      "execution_count": null,
      "outputs": [
        {
          "output_type": "stream",
          "name": "stdout",
          "text": [
            "2016.02.19    11900\n",
            "2016.02.17    11600\n",
            "2016.02.16    11000\n",
            "2016.02.15    11100\n",
            "2016.02.14    11050\n",
            "Name: close, dtype: int64\n"
          ]
        }
      ]
    },
    {
      "cell_type": "code",
      "source": [
        "print(daeshin_day['2016.02.17'])  #에러 ~> loc사용"
      ],
      "metadata": {
        "colab": {
          "base_uri": "https://localhost:8080/",
          "height": 530
        },
        "id": "vWBTWLMJwC4n",
        "outputId": "8ac07342-eab3-4cd8-c36c-a5e6509a2c4b"
      },
      "execution_count": null,
      "outputs": [
        {
          "output_type": "error",
          "ename": "KeyError",
          "evalue": "ignored",
          "traceback": [
            "\u001b[0;31m---------------------------------------------------------------------------\u001b[0m",
            "\u001b[0;31mKeyError\u001b[0m                                  Traceback (most recent call last)",
            "\u001b[0;32m/usr/local/lib/python3.7/dist-packages/pandas/core/indexes/base.py\u001b[0m in \u001b[0;36mget_loc\u001b[0;34m(self, key, method, tolerance)\u001b[0m\n\u001b[1;32m   3360\u001b[0m             \u001b[0;32mtry\u001b[0m\u001b[0;34m:\u001b[0m\u001b[0;34m\u001b[0m\u001b[0;34m\u001b[0m\u001b[0m\n\u001b[0;32m-> 3361\u001b[0;31m                 \u001b[0;32mreturn\u001b[0m \u001b[0mself\u001b[0m\u001b[0;34m.\u001b[0m\u001b[0m_engine\u001b[0m\u001b[0;34m.\u001b[0m\u001b[0mget_loc\u001b[0m\u001b[0;34m(\u001b[0m\u001b[0mcasted_key\u001b[0m\u001b[0;34m)\u001b[0m\u001b[0;34m\u001b[0m\u001b[0;34m\u001b[0m\u001b[0m\n\u001b[0m\u001b[1;32m   3362\u001b[0m             \u001b[0;32mexcept\u001b[0m \u001b[0mKeyError\u001b[0m \u001b[0;32mas\u001b[0m \u001b[0merr\u001b[0m\u001b[0;34m:\u001b[0m\u001b[0;34m\u001b[0m\u001b[0;34m\u001b[0m\u001b[0m\n",
            "\u001b[0;32m/usr/local/lib/python3.7/dist-packages/pandas/_libs/index.pyx\u001b[0m in \u001b[0;36mpandas._libs.index.IndexEngine.get_loc\u001b[0;34m()\u001b[0m\n",
            "\u001b[0;32m/usr/local/lib/python3.7/dist-packages/pandas/_libs/index.pyx\u001b[0m in \u001b[0;36mpandas._libs.index.IndexEngine.get_loc\u001b[0;34m()\u001b[0m\n",
            "\u001b[0;32mpandas/_libs/hashtable_class_helper.pxi\u001b[0m in \u001b[0;36mpandas._libs.hashtable.PyObjectHashTable.get_item\u001b[0;34m()\u001b[0m\n",
            "\u001b[0;32mpandas/_libs/hashtable_class_helper.pxi\u001b[0m in \u001b[0;36mpandas._libs.hashtable.PyObjectHashTable.get_item\u001b[0;34m()\u001b[0m\n",
            "\u001b[0;31mKeyError\u001b[0m: '2016.02.17'",
            "\nThe above exception was the direct cause of the following exception:\n",
            "\u001b[0;31mKeyError\u001b[0m                                  Traceback (most recent call last)",
            "\u001b[0;32m<ipython-input-35-dd13242a04ad>\u001b[0m in \u001b[0;36m<module>\u001b[0;34m\u001b[0m\n\u001b[0;32m----> 1\u001b[0;31m \u001b[0mprint\u001b[0m\u001b[0;34m(\u001b[0m\u001b[0mdaeshin_day\u001b[0m\u001b[0;34m[\u001b[0m\u001b[0;34m'2016.02.17'\u001b[0m\u001b[0;34m]\u001b[0m\u001b[0;34m)\u001b[0m\u001b[0;34m\u001b[0m\u001b[0;34m\u001b[0m\u001b[0m\n\u001b[0m",
            "\u001b[0;32m/usr/local/lib/python3.7/dist-packages/pandas/core/frame.py\u001b[0m in \u001b[0;36m__getitem__\u001b[0;34m(self, key)\u001b[0m\n\u001b[1;32m   3456\u001b[0m             \u001b[0;32mif\u001b[0m \u001b[0mself\u001b[0m\u001b[0;34m.\u001b[0m\u001b[0mcolumns\u001b[0m\u001b[0;34m.\u001b[0m\u001b[0mnlevels\u001b[0m \u001b[0;34m>\u001b[0m \u001b[0;36m1\u001b[0m\u001b[0;34m:\u001b[0m\u001b[0;34m\u001b[0m\u001b[0;34m\u001b[0m\u001b[0m\n\u001b[1;32m   3457\u001b[0m                 \u001b[0;32mreturn\u001b[0m \u001b[0mself\u001b[0m\u001b[0;34m.\u001b[0m\u001b[0m_getitem_multilevel\u001b[0m\u001b[0;34m(\u001b[0m\u001b[0mkey\u001b[0m\u001b[0;34m)\u001b[0m\u001b[0;34m\u001b[0m\u001b[0;34m\u001b[0m\u001b[0m\n\u001b[0;32m-> 3458\u001b[0;31m             \u001b[0mindexer\u001b[0m \u001b[0;34m=\u001b[0m \u001b[0mself\u001b[0m\u001b[0;34m.\u001b[0m\u001b[0mcolumns\u001b[0m\u001b[0;34m.\u001b[0m\u001b[0mget_loc\u001b[0m\u001b[0;34m(\u001b[0m\u001b[0mkey\u001b[0m\u001b[0;34m)\u001b[0m\u001b[0;34m\u001b[0m\u001b[0;34m\u001b[0m\u001b[0m\n\u001b[0m\u001b[1;32m   3459\u001b[0m             \u001b[0;32mif\u001b[0m \u001b[0mis_integer\u001b[0m\u001b[0;34m(\u001b[0m\u001b[0mindexer\u001b[0m\u001b[0;34m)\u001b[0m\u001b[0;34m:\u001b[0m\u001b[0;34m\u001b[0m\u001b[0;34m\u001b[0m\u001b[0m\n\u001b[1;32m   3460\u001b[0m                 \u001b[0mindexer\u001b[0m \u001b[0;34m=\u001b[0m \u001b[0;34m[\u001b[0m\u001b[0mindexer\u001b[0m\u001b[0;34m]\u001b[0m\u001b[0;34m\u001b[0m\u001b[0;34m\u001b[0m\u001b[0m\n",
            "\u001b[0;32m/usr/local/lib/python3.7/dist-packages/pandas/core/indexes/base.py\u001b[0m in \u001b[0;36mget_loc\u001b[0;34m(self, key, method, tolerance)\u001b[0m\n\u001b[1;32m   3361\u001b[0m                 \u001b[0;32mreturn\u001b[0m \u001b[0mself\u001b[0m\u001b[0;34m.\u001b[0m\u001b[0m_engine\u001b[0m\u001b[0;34m.\u001b[0m\u001b[0mget_loc\u001b[0m\u001b[0;34m(\u001b[0m\u001b[0mcasted_key\u001b[0m\u001b[0;34m)\u001b[0m\u001b[0;34m\u001b[0m\u001b[0;34m\u001b[0m\u001b[0m\n\u001b[1;32m   3362\u001b[0m             \u001b[0;32mexcept\u001b[0m \u001b[0mKeyError\u001b[0m \u001b[0;32mas\u001b[0m \u001b[0merr\u001b[0m\u001b[0;34m:\u001b[0m\u001b[0;34m\u001b[0m\u001b[0;34m\u001b[0m\u001b[0m\n\u001b[0;32m-> 3363\u001b[0;31m                 \u001b[0;32mraise\u001b[0m \u001b[0mKeyError\u001b[0m\u001b[0;34m(\u001b[0m\u001b[0mkey\u001b[0m\u001b[0;34m)\u001b[0m \u001b[0;32mfrom\u001b[0m \u001b[0merr\u001b[0m\u001b[0;34m\u001b[0m\u001b[0;34m\u001b[0m\u001b[0m\n\u001b[0m\u001b[1;32m   3364\u001b[0m \u001b[0;34m\u001b[0m\u001b[0m\n\u001b[1;32m   3365\u001b[0m         \u001b[0;32mif\u001b[0m \u001b[0mis_scalar\u001b[0m\u001b[0;34m(\u001b[0m\u001b[0mkey\u001b[0m\u001b[0;34m)\u001b[0m \u001b[0;32mand\u001b[0m \u001b[0misna\u001b[0m\u001b[0;34m(\u001b[0m\u001b[0mkey\u001b[0m\u001b[0;34m)\u001b[0m \u001b[0;32mand\u001b[0m \u001b[0;32mnot\u001b[0m \u001b[0mself\u001b[0m\u001b[0;34m.\u001b[0m\u001b[0mhasnans\u001b[0m\u001b[0;34m:\u001b[0m\u001b[0;34m\u001b[0m\u001b[0;34m\u001b[0m\u001b[0m\n",
            "\u001b[0;31mKeyError\u001b[0m: '2016.02.17'"
          ]
        }
      ]
    },
    {
      "cell_type": "code",
      "source": [
        "day_data = daeshin_day.loc['2016.02.17']\n",
        "print(day_data)\n",
        "print( type(day_data) )"
      ],
      "metadata": {
        "colab": {
          "base_uri": "https://localhost:8080/"
        },
        "id": "1BEg2UsywoDX",
        "outputId": "8fd7f820-6237-4217-a769-dc96711bd463"
      },
      "execution_count": null,
      "outputs": [
        {
          "output_type": "stream",
          "name": "stdout",
          "text": [
            "open     11100\n",
            "high     11800\n",
            "low      11050\n",
            "close    11600\n",
            "Name: 2016.02.17, dtype: int64\n",
            "<class 'pandas.core.series.Series'>\n"
          ]
        }
      ]
    },
    {
      "cell_type": "code",
      "source": [],
      "metadata": {
        "id": "gFoSUpibxgSK"
      },
      "execution_count": null,
      "outputs": []
    }
  ]
}